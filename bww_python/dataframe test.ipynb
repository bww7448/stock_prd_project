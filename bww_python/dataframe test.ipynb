{
 "cells": [
  {
   "cell_type": "code",
   "execution_count": 13,
   "metadata": {},
   "outputs": [],
   "source": [
    "import pandas as pd"
   ]
  },
  {
   "cell_type": "code",
   "execution_count": 14,
   "metadata": {},
   "outputs": [],
   "source": [
    "zzin_df = pd.DataFrame({\"A\" : [\"AA\"], \"B\" : [\"BB\"]})"
   ]
  },
  {
   "cell_type": "code",
   "execution_count": 15,
   "metadata": {},
   "outputs": [
    {
     "data": {
      "text/html": [
       "<div>\n",
       "<style scoped>\n",
       "    .dataframe tbody tr th:only-of-type {\n",
       "        vertical-align: middle;\n",
       "    }\n",
       "\n",
       "    .dataframe tbody tr th {\n",
       "        vertical-align: top;\n",
       "    }\n",
       "\n",
       "    .dataframe thead th {\n",
       "        text-align: right;\n",
       "    }\n",
       "</style>\n",
       "<table border=\"1\" class=\"dataframe\">\n",
       "  <thead>\n",
       "    <tr style=\"text-align: right;\">\n",
       "      <th></th>\n",
       "      <th>A</th>\n",
       "      <th>B</th>\n",
       "    </tr>\n",
       "  </thead>\n",
       "  <tbody>\n",
       "    <tr>\n",
       "      <th>0</th>\n",
       "      <td>AA</td>\n",
       "      <td>BB</td>\n",
       "    </tr>\n",
       "  </tbody>\n",
       "</table>\n",
       "</div>"
      ],
      "text/plain": [
       "    A   B\n",
       "0  AA  BB"
      ]
     },
     "execution_count": 15,
     "metadata": {},
     "output_type": "execute_result"
    }
   ],
   "source": [
    "zzin_df"
   ]
  },
  {
   "cell_type": "code",
   "execution_count": 5,
   "metadata": {},
   "outputs": [
    {
     "data": {
      "text/html": [
       "<div>\n",
       "<style scoped>\n",
       "    .dataframe tbody tr th:only-of-type {\n",
       "        vertical-align: middle;\n",
       "    }\n",
       "\n",
       "    .dataframe tbody tr th {\n",
       "        vertical-align: top;\n",
       "    }\n",
       "\n",
       "    .dataframe thead th {\n",
       "        text-align: right;\n",
       "    }\n",
       "</style>\n",
       "<table border=\"1\" class=\"dataframe\">\n",
       "  <thead>\n",
       "    <tr style=\"text-align: right;\">\n",
       "      <th></th>\n",
       "      <th>A</th>\n",
       "      <th>B</th>\n",
       "    </tr>\n",
       "  </thead>\n",
       "  <tbody>\n",
       "    <tr>\n",
       "      <th>0</th>\n",
       "      <td>A</td>\n",
       "      <td>B</td>\n",
       "    </tr>\n",
       "  </tbody>\n",
       "</table>\n",
       "</div>"
      ],
      "text/plain": [
       "   A  B\n",
       "0  A  B"
      ]
     },
     "execution_count": 5,
     "metadata": {},
     "output_type": "execute_result"
    }
   ],
   "source": [
    "append_df = pd.DataFrame({\"A\" : [\"A\"], \"B\" : [\"B\"]})\n",
    "append_df"
   ]
  },
  {
   "cell_type": "code",
   "execution_count": 8,
   "metadata": {},
   "outputs": [
    {
     "data": {
      "text/html": [
       "<div>\n",
       "<style scoped>\n",
       "    .dataframe tbody tr th:only-of-type {\n",
       "        vertical-align: middle;\n",
       "    }\n",
       "\n",
       "    .dataframe tbody tr th {\n",
       "        vertical-align: top;\n",
       "    }\n",
       "\n",
       "    .dataframe thead th {\n",
       "        text-align: right;\n",
       "    }\n",
       "</style>\n",
       "<table border=\"1\" class=\"dataframe\">\n",
       "  <thead>\n",
       "    <tr style=\"text-align: right;\">\n",
       "      <th></th>\n",
       "      <th>A</th>\n",
       "      <th>B</th>\n",
       "    </tr>\n",
       "  </thead>\n",
       "  <tbody>\n",
       "    <tr>\n",
       "      <th>0</th>\n",
       "      <td>AA</td>\n",
       "      <td>BB</td>\n",
       "    </tr>\n",
       "    <tr>\n",
       "      <th>0</th>\n",
       "      <td>A</td>\n",
       "      <td>B</td>\n",
       "    </tr>\n",
       "  </tbody>\n",
       "</table>\n",
       "</div>"
      ],
      "text/plain": [
       "    A   B\n",
       "0  AA  BB\n",
       "0   A   B"
      ]
     },
     "execution_count": 8,
     "metadata": {},
     "output_type": "execute_result"
    }
   ],
   "source": [
    "zzin_df.append(append_df)"
   ]
  },
  {
   "cell_type": "code",
   "execution_count": 10,
   "metadata": {},
   "outputs": [],
   "source": [
    "zzin_df = zzin_df.append(append_df)"
   ]
  },
  {
   "cell_type": "code",
   "execution_count": 12,
   "metadata": {},
   "outputs": [
    {
     "data": {
      "text/html": [
       "<div>\n",
       "<style scoped>\n",
       "    .dataframe tbody tr th:only-of-type {\n",
       "        vertical-align: middle;\n",
       "    }\n",
       "\n",
       "    .dataframe tbody tr th {\n",
       "        vertical-align: top;\n",
       "    }\n",
       "\n",
       "    .dataframe thead th {\n",
       "        text-align: right;\n",
       "    }\n",
       "</style>\n",
       "<table border=\"1\" class=\"dataframe\">\n",
       "  <thead>\n",
       "    <tr style=\"text-align: right;\">\n",
       "      <th></th>\n",
       "      <th>A</th>\n",
       "      <th>B</th>\n",
       "    </tr>\n",
       "  </thead>\n",
       "  <tbody>\n",
       "    <tr>\n",
       "      <th>0</th>\n",
       "      <td>AA</td>\n",
       "      <td>BB</td>\n",
       "    </tr>\n",
       "    <tr>\n",
       "      <th>0</th>\n",
       "      <td>A</td>\n",
       "      <td>B</td>\n",
       "    </tr>\n",
       "  </tbody>\n",
       "</table>\n",
       "</div>"
      ],
      "text/plain": [
       "    A   B\n",
       "0  AA  BB\n",
       "0   A   B"
      ]
     },
     "execution_count": 12,
     "metadata": {},
     "output_type": "execute_result"
    }
   ],
   "source": [
    "zzin_df"
   ]
  },
  {
   "cell_type": "code",
   "execution_count": 18,
   "metadata": {},
   "outputs": [],
   "source": [
    "import random\n",
    "def rand_constrained(n,tot):\n",
    "       r = [random.random() for i in range(n)]  \n",
    "       s = sum(r)\n",
    "       r = [(i/s*tot) for i in r] \n",
    "       return r"
   ]
  },
  {
   "cell_type": "code",
   "execution_count": 21,
   "metadata": {},
   "outputs": [
    {
     "name": "stdout",
     "output_type": "stream",
     "text": [
      "[0.42806039740365714, 0.2987602204511433, 0.009962228879932533, 0.22903543206994897, 0.034181721195318024]\n",
      "1.0\n"
     ]
    }
   ],
   "source": [
    "r = rand_constrained(5,1)\n",
    "print(r)\n",
    "print(sum(r))"
   ]
  },
  {
   "cell_type": "code",
   "execution_count": 22,
   "metadata": {},
   "outputs": [],
   "source": [
    "import pandas as pd\n",
    "from random import sample\n",
    "from sklearn.metrics import confusion_matrix, classification_report"
   ]
  },
  {
   "cell_type": "code",
   "execution_count": 167,
   "metadata": {},
   "outputs": [
    {
     "data": {
      "text/plain": [
       "'M'"
      ]
     },
     "execution_count": 167,
     "metadata": {},
     "output_type": "execute_result"
    }
   ],
   "source": [
    "zzin_df.iloc[1,2][0]"
   ]
  },
  {
   "cell_type": "code",
   "execution_count": 49,
   "metadata": {},
   "outputs": [
    {
     "name": "stdout",
     "output_type": "stream",
     "text": [
      "    P_score predict real stock_name  stock_code        Date Nasdaq\n",
      "0    100.00      P0   M0         인콘       83640  2020-10-23    U03\n",
      "0     76.85      P0   M0      엠벤처투자       19590  2020-10-23    U03\n",
      "0     71.78      P0   M0       옵트론텍       82210  2020-10-23    U03\n",
      "0     68.85      P0   M0       모트렉스      118990  2020-10-23    U03\n",
      "0     68.61      P0   P0    유니온머티리얼       47400  2020-10-23    U03\n",
      "..      ...     ...  ...        ...         ...         ...    ...\n",
      "0     85.70      P0   P0    오리엔트바이오        2630  2020-06-01    U04\n",
      "0     81.93      P0   K0        아이엠      101390  2020-06-01    U04\n",
      "0     76.62      P0   P0      오픈베이스       49480  2020-06-01    U04\n",
      "0     73.37      P0   M0        네스엠       56000  2020-06-01    U04\n",
      "0     68.42      P0   P0        나이벡      138610  2020-06-01    U04\n",
      "\n",
      "[500 rows x 7 columns]\n",
      "0.376\n"
     ]
    }
   ],
   "source": [
    "zzin_df = pd.read_csv(\"C:/Users/14/Jupyter Notebook/stock_prd_project/resources/item6_zzin_winlose2.csv\", encoding = \"euc-kr\", index_col = 0)\n",
    "#print(classification_report(zzin_df[\"predict\"], zzin_df[\"real\"]))\n",
    "print(zzin_df)\n",
    "x = [0,0]\n",
    "for i in range(len(zzin_df)) :\n",
    "    if zzin_df.iloc[i, 1][0] == zzin_df.iloc[i, 2][0] :\n",
    "        x[0] += 1\n",
    "    else :\n",
    "        x[1] += 1\n",
    "accuracy = x[0]/(x[0] + x[1])\n",
    "print(accuracy)"
   ]
  },
  {
   "cell_type": "code",
   "execution_count": 48,
   "metadata": {},
   "outputs": [
    {
     "name": "stdout",
     "output_type": "stream",
     "text": [
      "P0\n",
      "<class 'str'>\n"
     ]
    }
   ],
   "source": [
    "print(zzin_df.iloc[1,1])\n",
    "print(type(zzin_df.iloc[1,1]))"
   ]
  },
  {
   "cell_type": "code",
   "execution_count": 50,
   "metadata": {},
   "outputs": [
    {
     "name": "stdout",
     "output_type": "stream",
     "text": [
      "          Date stock_name  today_win  today_lose  tomorrow_win  tomorrow_lose  \\\n",
      "0   2020-10-23         인콘        0.0         0.0           0.0            1.0   \n",
      "0   2020-10-23      엠벤처투자        0.0         0.0           0.0            1.0   \n",
      "0   2020-10-23       옵트론텍        0.0         0.0           0.0            1.0   \n",
      "0   2020-10-23       모트렉스        0.0         0.0           1.0            0.0   \n",
      "0   2020-10-23    유니온머티리얼        1.0         0.0           0.0            0.0   \n",
      "..         ...        ...        ...         ...           ...            ...   \n",
      "0   2020-06-01    오리엔트바이오        0.0         0.0           0.0            0.0   \n",
      "0   2020-06-01        아이엠        0.0         0.0           0.0            0.0   \n",
      "0   2020-06-01      오픈베이스        1.0         0.0           0.0            0.0   \n",
      "0   2020-06-01        네스엠        0.0         1.0           0.0            0.0   \n",
      "0   2020-06-01        나이벡        0.0         0.0           1.0            0.0   \n",
      "\n",
      "    day2_win  day2_lose  real_profit Nasdaq  \n",
      "0        0.0        0.0    -0.062232    U03  \n",
      "0        0.0        0.0    -0.034553    U03  \n",
      "0        0.0        0.0    -0.057402    U03  \n",
      "0        0.0        0.0     0.035000    U03  \n",
      "0        0.0        0.0     0.037500    U03  \n",
      "..       ...        ...          ...    ...  \n",
      "0        1.0        0.0     0.008000    U04  \n",
      "0        1.0        0.0     0.008000    U04  \n",
      "0        0.0        0.0     0.037500    U04  \n",
      "0        0.0        0.0    -0.046252    U04  \n",
      "0        0.0        0.0     0.035000    U04  \n",
      "\n",
      "[500 rows x 10 columns]\n"
     ]
    }
   ],
   "source": [
    "vs_zzin = pd.read_csv(\"C:/Users/14/Jupyter Notebook/stock_prd_project/resources/sample_table.csv\", encoding = \"euc-kr\", index_col = 0)\n",
    "print(vs_zzin)"
   ]
  },
  {
   "cell_type": "code",
   "execution_count": 55,
   "metadata": {},
   "outputs": [
    {
     "data": {
      "text/html": [
       "<div>\n",
       "<style scoped>\n",
       "    .dataframe tbody tr th:only-of-type {\n",
       "        vertical-align: middle;\n",
       "    }\n",
       "\n",
       "    .dataframe tbody tr th {\n",
       "        vertical-align: top;\n",
       "    }\n",
       "\n",
       "    .dataframe thead th {\n",
       "        text-align: right;\n",
       "    }\n",
       "</style>\n",
       "<table border=\"1\" class=\"dataframe\">\n",
       "  <thead>\n",
       "    <tr style=\"text-align: right;\">\n",
       "      <th></th>\n",
       "      <th>Date</th>\n",
       "      <th>stock_name</th>\n",
       "      <th>today_win</th>\n",
       "      <th>today_lose</th>\n",
       "      <th>tomorrow_win</th>\n",
       "      <th>tomorrow_lose</th>\n",
       "      <th>day2_win</th>\n",
       "      <th>day2_lose</th>\n",
       "      <th>real_profit</th>\n",
       "      <th>Nasdaq</th>\n",
       "    </tr>\n",
       "  </thead>\n",
       "  <tbody>\n",
       "    <tr>\n",
       "      <th>0</th>\n",
       "      <td>2020-10-22</td>\n",
       "      <td>삼양통상</td>\n",
       "      <td>0.0</td>\n",
       "      <td>0.0</td>\n",
       "      <td>0.0</td>\n",
       "      <td>0.0</td>\n",
       "      <td>1.0</td>\n",
       "      <td>0.0</td>\n",
       "      <td>0.008000</td>\n",
       "      <td>D04</td>\n",
       "    </tr>\n",
       "    <tr>\n",
       "      <th>0</th>\n",
       "      <td>2020-10-22</td>\n",
       "      <td>지엠비코리아</td>\n",
       "      <td>0.0</td>\n",
       "      <td>0.0</td>\n",
       "      <td>0.0</td>\n",
       "      <td>0.0</td>\n",
       "      <td>1.0</td>\n",
       "      <td>0.0</td>\n",
       "      <td>0.008000</td>\n",
       "      <td>D04</td>\n",
       "    </tr>\n",
       "    <tr>\n",
       "      <th>0</th>\n",
       "      <td>2020-10-22</td>\n",
       "      <td>한국큐빅</td>\n",
       "      <td>0.0</td>\n",
       "      <td>0.0</td>\n",
       "      <td>0.0</td>\n",
       "      <td>0.0</td>\n",
       "      <td>1.0</td>\n",
       "      <td>0.0</td>\n",
       "      <td>0.008000</td>\n",
       "      <td>D04</td>\n",
       "    </tr>\n",
       "    <tr>\n",
       "      <th>0</th>\n",
       "      <td>2020-10-22</td>\n",
       "      <td>KH바텍</td>\n",
       "      <td>0.0</td>\n",
       "      <td>0.0</td>\n",
       "      <td>0.0</td>\n",
       "      <td>1.0</td>\n",
       "      <td>0.0</td>\n",
       "      <td>0.0</td>\n",
       "      <td>-0.040650</td>\n",
       "      <td>D04</td>\n",
       "    </tr>\n",
       "    <tr>\n",
       "      <th>0</th>\n",
       "      <td>2020-10-22</td>\n",
       "      <td>현대위아</td>\n",
       "      <td>0.0</td>\n",
       "      <td>0.0</td>\n",
       "      <td>0.0</td>\n",
       "      <td>0.0</td>\n",
       "      <td>1.0</td>\n",
       "      <td>0.0</td>\n",
       "      <td>0.008000</td>\n",
       "      <td>D04</td>\n",
       "    </tr>\n",
       "    <tr>\n",
       "      <th>...</th>\n",
       "      <td>...</td>\n",
       "      <td>...</td>\n",
       "      <td>...</td>\n",
       "      <td>...</td>\n",
       "      <td>...</td>\n",
       "      <td>...</td>\n",
       "      <td>...</td>\n",
       "      <td>...</td>\n",
       "      <td>...</td>\n",
       "      <td>...</td>\n",
       "    </tr>\n",
       "    <tr>\n",
       "      <th>0</th>\n",
       "      <td>2020-06-05</td>\n",
       "      <td>한국조선해양</td>\n",
       "      <td>0.0</td>\n",
       "      <td>0.0</td>\n",
       "      <td>1.0</td>\n",
       "      <td>0.0</td>\n",
       "      <td>0.0</td>\n",
       "      <td>0.0</td>\n",
       "      <td>0.035000</td>\n",
       "      <td>D04</td>\n",
       "    </tr>\n",
       "    <tr>\n",
       "      <th>0</th>\n",
       "      <td>2020-06-05</td>\n",
       "      <td>에이테크솔루션</td>\n",
       "      <td>0.0</td>\n",
       "      <td>0.0</td>\n",
       "      <td>1.0</td>\n",
       "      <td>0.0</td>\n",
       "      <td>0.0</td>\n",
       "      <td>0.0</td>\n",
       "      <td>0.035000</td>\n",
       "      <td>D04</td>\n",
       "    </tr>\n",
       "    <tr>\n",
       "      <th>0</th>\n",
       "      <td>2020-06-05</td>\n",
       "      <td>유니셈</td>\n",
       "      <td>0.0</td>\n",
       "      <td>0.0</td>\n",
       "      <td>0.0</td>\n",
       "      <td>0.0</td>\n",
       "      <td>1.0</td>\n",
       "      <td>0.0</td>\n",
       "      <td>0.008000</td>\n",
       "      <td>D04</td>\n",
       "    </tr>\n",
       "    <tr>\n",
       "      <th>0</th>\n",
       "      <td>2020-06-05</td>\n",
       "      <td>현대리바트</td>\n",
       "      <td>0.0</td>\n",
       "      <td>0.0</td>\n",
       "      <td>0.0</td>\n",
       "      <td>1.0</td>\n",
       "      <td>0.0</td>\n",
       "      <td>0.0</td>\n",
       "      <td>-0.058462</td>\n",
       "      <td>D04</td>\n",
       "    </tr>\n",
       "    <tr>\n",
       "      <th>0</th>\n",
       "      <td>2020-06-05</td>\n",
       "      <td>액토즈소프트</td>\n",
       "      <td>0.0</td>\n",
       "      <td>0.0</td>\n",
       "      <td>0.0</td>\n",
       "      <td>0.0</td>\n",
       "      <td>1.0</td>\n",
       "      <td>0.0</td>\n",
       "      <td>0.008000</td>\n",
       "      <td>D04</td>\n",
       "    </tr>\n",
       "  </tbody>\n",
       "</table>\n",
       "<p>165 rows × 10 columns</p>\n",
       "</div>"
      ],
      "text/plain": [
       "          Date stock_name  today_win  today_lose  tomorrow_win  tomorrow_lose  \\\n",
       "0   2020-10-22       삼양통상        0.0         0.0           0.0            0.0   \n",
       "0   2020-10-22     지엠비코리아        0.0         0.0           0.0            0.0   \n",
       "0   2020-10-22       한국큐빅        0.0         0.0           0.0            0.0   \n",
       "0   2020-10-22       KH바텍        0.0         0.0           0.0            1.0   \n",
       "0   2020-10-22       현대위아        0.0         0.0           0.0            0.0   \n",
       "..         ...        ...        ...         ...           ...            ...   \n",
       "0   2020-06-05     한국조선해양        0.0         0.0           1.0            0.0   \n",
       "0   2020-06-05    에이테크솔루션        0.0         0.0           1.0            0.0   \n",
       "0   2020-06-05        유니셈        0.0         0.0           0.0            0.0   \n",
       "0   2020-06-05      현대리바트        0.0         0.0           0.0            1.0   \n",
       "0   2020-06-05     액토즈소프트        0.0         0.0           0.0            0.0   \n",
       "\n",
       "    day2_win  day2_lose  real_profit Nasdaq  \n",
       "0        1.0        0.0     0.008000    D04  \n",
       "0        1.0        0.0     0.008000    D04  \n",
       "0        1.0        0.0     0.008000    D04  \n",
       "0        0.0        0.0    -0.040650    D04  \n",
       "0        1.0        0.0     0.008000    D04  \n",
       "..       ...        ...          ...    ...  \n",
       "0        0.0        0.0     0.035000    D04  \n",
       "0        0.0        0.0     0.035000    D04  \n",
       "0        1.0        0.0     0.008000    D04  \n",
       "0        0.0        0.0    -0.058462    D04  \n",
       "0        1.0        0.0     0.008000    D04  \n",
       "\n",
       "[165 rows x 10 columns]"
      ]
     },
     "execution_count": 55,
     "metadata": {},
     "output_type": "execute_result"
    }
   ],
   "source": [
    "vs_zzin_d4 = vs_zzin[vs_zzin[\"Nasdaq\"] == \"D04\"]\n",
    "vs_zzin_u2 = vs_zzin[vs_zzin[\"Nasdaq\"] == \"U02\"]\n",
    "vs_zzin_u3 = vs_zzin[vs_zzin[\"Nasdaq\"] == \"U03\"]\n",
    "vs_zzin_u4 = vs_zzin[vs_zzin[\"Nasdaq\"] == \"U04\"]\n",
    "vs_zzin_t1 = vs_zzin[vs_zzin[\"Nasdaq\"] == \"T01\"]\n",
    "vs_zzin_d4"
   ]
  },
  {
   "cell_type": "code",
   "execution_count": 65,
   "metadata": {},
   "outputs": [
    {
     "name": "stdout",
     "output_type": "stream",
     "text": [
      "165\n",
      "51.0 25.0 33.0\n",
      "@@@@@@@@@@@@@@@@@@@@@@@@@@@@@@@@@\n",
      "5\n",
      "1.0 1.0 0.0\n",
      "@@@@@@@@@@@@@@@@@@@@@@@@@@@@@@@@@\n",
      "15\n",
      "2.0 1.0 2.0\n",
      "@@@@@@@@@@@@@@@@@@@@@@@@@@@@@@@@@\n",
      "300\n",
      "74.0 50.0 57.0\n",
      "@@@@@@@@@@@@@@@@@@@@@@@@@@@@@@@@@\n",
      "15\n",
      "3.0 4.0 2.0\n",
      "@@@@@@@@@@@@@@@@@@@@@@@@@@@@@@@@@\n"
     ]
    }
   ],
   "source": [
    "print(len(vs_zzin_d4))\n",
    "print(sum(vs_zzin_d4[\"today_win\"]),sum(vs_zzin_d4[\"tomorrow_win\"]) , sum(vs_zzin_d4[\"day2_win\"]))\n",
    "print(\"@@@@@@@@@@@@@@@@@@@@@@@@@@@@@@@@@\")\n",
    "print(len(vs_zzin_u2))\n",
    "print(sum(vs_zzin_u2[\"today_win\"]),sum(vs_zzin_u2[\"tomorrow_win\"]) , sum(vs_zzin_u2[\"day2_win\"]))\n",
    "print(\"@@@@@@@@@@@@@@@@@@@@@@@@@@@@@@@@@\")\n",
    "print(len(vs_zzin_u3))\n",
    "print(sum(vs_zzin_u3[\"today_win\"]),sum(vs_zzin_u3[\"tomorrow_win\"]) , sum(vs_zzin_u3[\"day2_win\"]))\n",
    "print(\"@@@@@@@@@@@@@@@@@@@@@@@@@@@@@@@@@\")\n",
    "print(len(vs_zzin_u4))\n",
    "print(sum(vs_zzin_u4[\"today_win\"]),sum(vs_zzin_u4[\"tomorrow_win\"]),sum(vs_zzin_u4[\"day2_win\"]))\n",
    "print(\"@@@@@@@@@@@@@@@@@@@@@@@@@@@@@@@@@\")\n",
    "print(len(vs_zzin_t1))\n",
    "\n",
    "print(sum(vs_zzin_t1[\"today_win\"]),sum(vs_zzin_t1[\"tomorrow_win\"]),sum(vs_zzin_t1[\"day2_win\"]))\n",
    "print(\"@@@@@@@@@@@@@@@@@@@@@@@@@@@@@@@@@\")"
   ]
  },
  {
   "cell_type": "code",
   "execution_count": 165,
   "metadata": {},
   "outputs": [
    {
     "data": {
      "text/plain": [
       "0.5638250774042973"
      ]
     },
     "execution_count": 165,
     "metadata": {},
     "output_type": "execute_result"
    }
   ],
   "source": [
    "random.random()"
   ]
  },
  {
   "cell_type": "code",
   "execution_count": 171,
   "metadata": {},
   "outputs": [
    {
     "data": {
      "text/html": [
       "<div>\n",
       "<style scoped>\n",
       "    .dataframe tbody tr th:only-of-type {\n",
       "        vertical-align: middle;\n",
       "    }\n",
       "\n",
       "    .dataframe tbody tr th {\n",
       "        vertical-align: top;\n",
       "    }\n",
       "\n",
       "    .dataframe thead th {\n",
       "        text-align: right;\n",
       "    }\n",
       "</style>\n",
       "<table border=\"1\" class=\"dataframe\">\n",
       "  <thead>\n",
       "    <tr style=\"text-align: right;\">\n",
       "      <th></th>\n",
       "      <th>A</th>\n",
       "      <th>B</th>\n",
       "    </tr>\n",
       "  </thead>\n",
       "  <tbody>\n",
       "    <tr>\n",
       "      <th>0</th>\n",
       "      <td>0</td>\n",
       "      <td>[0, 0, 0, 0, 0, 0, 0]</td>\n",
       "    </tr>\n",
       "  </tbody>\n",
       "</table>\n",
       "</div>"
      ],
      "text/plain": [
       "   A                      B\n",
       "0  0  [0, 0, 0, 0, 0, 0, 0]"
      ]
     },
     "execution_count": 171,
     "metadata": {},
     "output_type": "execute_result"
    }
   ],
   "source": [
    "pd.DataFrame({\"A\" : [0] , \"B\" : [[0,0,0,0,0,0,0]]})"
   ]
  },
  {
   "cell_type": "code",
   "execution_count": 174,
   "metadata": {},
   "outputs": [
    {
     "name": "stdout",
     "output_type": "stream",
     "text": [
      "16.11821054076969 번째지롱\n"
     ]
    }
   ],
   "source": [
    "a = random.random()*30\n",
    "print(a, \"번째지롱\")"
   ]
  }
 ],
 "metadata": {
  "kernelspec": {
   "display_name": "Python 3",
   "language": "python",
   "name": "python3"
  },
  "language_info": {
   "codemirror_mode": {
    "name": "ipython",
    "version": 3
   },
   "file_extension": ".py",
   "mimetype": "text/x-python",
   "name": "python",
   "nbconvert_exporter": "python",
   "pygments_lexer": "ipython3",
   "version": "3.7.6"
  },
  "toc": {
   "base_numbering": 1,
   "nav_menu": {},
   "number_sections": true,
   "sideBar": true,
   "skip_h1_title": false,
   "title_cell": "Table of Contents",
   "title_sidebar": "Contents",
   "toc_cell": false,
   "toc_position": {},
   "toc_section_display": true,
   "toc_window_display": false
  }
 },
 "nbformat": 4,
 "nbformat_minor": 4
}
