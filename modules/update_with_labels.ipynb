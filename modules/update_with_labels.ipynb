{
 "cells": [
  {
   "cell_type": "code",
   "execution_count": 3,
   "metadata": {},
   "outputs": [],
   "source": [
    "import pandas as pd\n",
    "from os.path import isfile\n",
    "from tailer import tail\n",
    "from FinanceDataReader import DataReader\n",
    "from pykrx import stock\n",
    "from time import sleep\n",
    "\n",
    "from pattern_labelling import * \n",
    "\n",
    "\n",
    "nsq_p = pd.read_csv(\"../resources/nasdaq.csv\")[['date','nasdaq']]\n",
    "nsq_p['date'] = pd.to_datetime(nsq_p['date'])"
   ]
  },
  {
   "cell_type": "code",
   "execution_count": 6,
   "metadata": {},
   "outputs": [],
   "source": [
    "stock_list = pd.read_csv(\"../resources/stockcode.csv\", dtype = {\"종목코드\": str, \"회사명\": str})\n",
    "first_df = pd.read_csv('../resources/ohlcv_p1p2p3_nasdq/000020.csv', parse_dates=['date'], index_col=[0])\n",
    "\n",
    "pd_last_date = first_df['date'].iloc[-1]\n",
    "pd_today = pd.to_datetime(pd.Timestamp.now().date())\n",
    "# 데이터를 갱신할 날짜 범위\n",
    "pd_last_p1 = pd_last_date + pd.Timedelta(days=1)\n",
    "pd_drange = pd.date_range(pd_last_p1, pd_today)\n",
    "if pd_last_p1 == pd_today:\n",
    "    pd_drange = []\n",
    "\n",
    "pd_date = pd_today\n",
    "df_update = stock.get_market_ohlcv_by_ticker(pd_date)\n",
    "\n",
    "df_update = df_update.reset_index()\n",
    "stock_ = df_update.iloc[0]\n",
    "stock_code = stock_['종목코드']\n",
    "update_target = pd.read_csv(f'../resources/ohlcv_p1p2p3_nasdq/{stock_code}.csv', parse_dates=['date'],\n",
    "                            index_col=[0])\n",
    "update_target = update_target.append({'date':pd_date,'open':stock_['시가'],'high':stock_['고가'],'low':stock_['저가'],'close':stock_['종가'],'volume':stock_['거래량']}, \n",
    "                            ignore_index=True)\n",
    "last_idx = len(update_target)-1\n",
    "update_target['pattern1'].values[last_idx] = labellingD0(update_target.iloc[last_idx])\n",
    "update_target['pattern2'].values[last_idx] = labellingD1(update_target.iloc[last_idx-1:last_idx+1])\n",
    "update_target['pattern3'].values[last_idx] = labellingD2(update_target.iloc[last_idx-2:last_idx+1])\n",
    "try:\n",
    "    update_target['nasdaq'].values[last_idx] = nsq_p[nsq_p['date']==pd_date].values[0][1]\n",
    "except IndexError:\n",
    "    update_target['nasdaq'].values[last_idx] = update_target['nasdaq'].iloc[last_idx-1]\n"
   ]
  },
  {
   "cell_type": "code",
   "execution_count": 8,
   "metadata": {},
   "outputs": [],
   "source": [
    "update_target = update_target[:2170]"
   ]
  },
  {
   "cell_type": "code",
   "execution_count": 33,
   "metadata": {},
   "outputs": [
    {
     "data": {
      "text/plain": [
       "'2020-10-27,16850,18150,15900,17500,851662,P05,M10P05,S07P05,D04\\n'"
      ]
     },
     "execution_count": 33,
     "metadata": {},
     "output_type": "execute_result"
    }
   ],
   "source": [
    "temp = update_target.values[last_idx-1]\n",
    "temp[0] = temp[0].date()\n",
    "for i in range(6):\n",
    "    temp[i] = str(temp[i])\n",
    "temp = \"\".join([temp[i//2] if i%2==0 else \",\" for i in range(19)])\n",
    "temp += '\\n'\n",
    "temp"
   ]
  },
  {
   "cell_type": "code",
   "execution_count": 27,
   "metadata": {},
   "outputs": [],
   "source": []
  },
  {
   "cell_type": "code",
   "execution_count": 31,
   "metadata": {},
   "outputs": [
    {
     "data": {
      "text/plain": [
       "array(['2020-10-27', '16850', '18150', '15900', '17500', '851662', 'P05',\n",
       "       'M10P05', 'S07P05', 'D04'], dtype=object)"
      ]
     },
     "execution_count": 31,
     "metadata": {},
     "output_type": "execute_result"
    }
   ],
   "source": []
  },
  {
   "cell_type": "code",
   "execution_count": null,
   "metadata": {},
   "outputs": [],
   "source": []
  },
  {
   "cell_type": "code",
   "execution_count": null,
   "metadata": {},
   "outputs": [],
   "source": []
  },
  {
   "cell_type": "code",
   "execution_count": 90,
   "metadata": {},
   "outputs": [],
   "source": []
  },
  {
   "cell_type": "code",
   "execution_count": null,
   "metadata": {},
   "outputs": [],
   "source": []
  },
  {
   "cell_type": "code",
   "execution_count": null,
   "metadata": {},
   "outputs": [],
   "source": []
  },
  {
   "cell_type": "code",
   "execution_count": null,
   "metadata": {},
   "outputs": [],
   "source": []
  }
 ],
 "metadata": {
  "kernelspec": {
   "display_name": "Python 3",
   "language": "python",
   "name": "python3"
  },
  "language_info": {
   "codemirror_mode": {
    "name": "ipython",
    "version": 3
   },
   "file_extension": ".py",
   "mimetype": "text/x-python",
   "name": "python",
   "nbconvert_exporter": "python",
   "pygments_lexer": "ipython3",
   "version": "3.7.4"
  }
 },
 "nbformat": 4,
 "nbformat_minor": 4
}
