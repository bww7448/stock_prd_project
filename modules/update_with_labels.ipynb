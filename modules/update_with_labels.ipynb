{
 "cells": [
  {
   "cell_type": "code",
   "execution_count": 104,
   "metadata": {},
   "outputs": [],
   "source": [
    "import pandas as pd\n",
    "from os.path import isfile\n",
    "from tailer import tail\n",
    "from FinanceDataReader import DataReader\n",
    "from pykrx import stock\n",
    "from time import sleep, time\n",
    "\n",
    "\n",
    "from pattern_labelling import * \n",
    "\n",
    "\n",
    "nsq_p = pd.read_csv(\"temp/nasdaq.csv\")[['date','nasdaq']]\n",
    "nsq_p['date'] = pd.to_datetime(nsq_p['date'])"
   ]
  },
  {
   "cell_type": "code",
   "execution_count": 53,
   "metadata": {},
   "outputs": [],
   "source": [
    "stock_list = pd.read_csv(\"../resources/stockcode.csv\", dtype = {\"종목코드\": str, \"회사명\": str})"
   ]
  },
  {
   "cell_type": "code",
   "execution_count": 70,
   "metadata": {},
   "outputs": [
    {
     "name": "stdout",
     "output_type": "stream",
     "text": [
      "time: 211903.57327461243ms\n"
     ]
    }
   ],
   "source": [
    "# to_csv performance test\n",
    "df = pd.read_csv(\"temp/000020.csv\",parse_dates=['date'], index_col=[0])\n",
    "\n",
    "startTime = time()\n",
    "for i in range(10000):\n",
    "    df.to_csv(f\"temp/test_{i}.csv\")\n",
    "    \n",
    "endTime = time()\n",
    "print(\"time: {}ms\".format((endTime - startTime)*1000))"
   ]
  },
  {
   "cell_type": "code",
   "execution_count": 71,
   "metadata": {},
   "outputs": [
    {
     "name": "stdout",
     "output_type": "stream",
     "text": [
      "time: 56258.91304016113ms\n"
     ]
    }
   ],
   "source": [
    "# read_csv performance test\n",
    "\n",
    "startTime = time()\n",
    "for i in range(10000):\n",
    "    df = pd.read_csv(\"temp/000020.csv\",parse_dates=['date'], index_col=[0])\n",
    "    \n",
    "endTime = time()\n",
    "print(\"time: {}ms\".format((endTime - startTime)*1000))"
   ]
  },
  {
   "cell_type": "markdown",
   "metadata": {},
   "source": [
    "----"
   ]
  },
  {
   "cell_type": "code",
   "execution_count": null,
   "metadata": {},
   "outputs": [],
   "source": [
    "    first_df = pd.read_csv('resources/ohlcv_p1p2p3_nasdq/950200.csv', parse_dates=['date'], index_col=[0])\n",
    "\n",
    "    pd_last_date = first_df['date'].iloc[-1]\n",
    "    pd_today = pd.to_datetime(pd.Timestamp.now().date())\n",
    "    pd_drange = pd.date_range(pd_last_date, pd_today)   # 데이터를 갱신할 날짜 범위\n",
    "\n",
    "    for pd_date in pd_drange:\n",
    "        df_update = stock.get_market_ohlcv_by_ticker(pd_date)\n",
    "        if not len(df_update):  # 장이 열리지 않은 날이면 skip\n",
    "            continue\n",
    "        df_update = df_update.reset_index()\n",
    "        for stock_code in stock_list['종목코드'].iloc:\n",
    "            try:\n",
    "                stock_ = df_update[df_update['종목코드']=='999999'].values[0]\n",
    "            except IndexError:\n",
    "                stock_ = [stock_code, 0,0,0,0,0,0]\n",
    "            filename = f'resources/ohlcv_p1p2p3_nasdq/{stock_code}.csv'\n",
    "            try:\n",
    "                update_target = pd.read_csv(filename, parse_dates=['date'], index_col=[0])\n",
    "            except FileNotFoundError:\n",
    "                break\n",
    "            if update_target['date'].values[-1] > pd_date:\n",
    "                continue    # 이전에 오류나서 이미 일부가 업데이트된 상태인 경우, 넘김\n",
    "            elif update_target['date'].values[-1] == pd_date:\n",
    "                update_target['open'].values[-1] = stock_['시가']\n",
    "                update_target['high'].values[-1] = stock_['고가']\n",
    "                update_target['low'].values[-1] = stock_['저가']\n",
    "                update_target['close'].values[-1] = stock_['종가']\n",
    "                update_target['volume'].values[-1] = stock_['거래량']\n",
    "                flag = 0\n",
    "            else:\n",
    "                update_target = update_target.append({'date':pd_date,'open':stock_['시가'],'high':stock_['고가'],'low':stock_['저가'],'close':stock_['종가'],'volume':stock_['거래량']}, \n",
    "                                    ignore_index=True)\n",
    "                flag = 1\n",
    "\n",
    "            last_idx = len(update_target)-1\n",
    "            update_target['pattern1'].values[last_idx] = labellingD0(update_target.iloc[last_idx])\n",
    "            update_target['pattern2'].values[last_idx] = labellingD1(update_target.iloc[last_idx-1:last_idx+1])\n",
    "            update_target['pattern3'].values[last_idx] = labellingD2(update_target.iloc[last_idx-2:last_idx+1])\n",
    "            try:\n",
    "                update_target['nasdaq'].values[last_idx] = nsq_p[nsq_p['date']==pd_date].values[0][1]\n",
    "            except IndexError:\n",
    "                raise Exception(\"call_nasdaq()부터 실행하세요.\")\n",
    "\n",
    "            if flag:\n",
    "                # modify file\n",
    "                temp = update_target.values[last_idx]\n",
    "                temp[0] = temp[0].date()\n",
    "                for i in range(6):\n",
    "                    temp[i] = str(temp[i])\n",
    "                temp = \"\".join([temp[i//2] if i%2==0 else \",\" for i in range(19)])\n",
    "                temp += '\\n'\n",
    "                with open(filename,'a',encoding='UTF-8') as f:\n",
    "                    f.write(temp)\n",
    "            else:\n",
    "                update_target.to_csv(filename)"
   ]
  },
  {
   "cell_type": "code",
   "execution_count": 141,
   "metadata": {},
   "outputs": [],
   "source": [
    "first_df = pd.read_csv('../resources/ohlcv_p1p2p3_nasdq/950200.csv', parse_dates=['date'], index_col=[0])"
   ]
  },
  {
   "cell_type": "code",
   "execution_count": 142,
   "metadata": {},
   "outputs": [],
   "source": [
    "    pd_last_date = first_df['date'].iloc[-1]\n",
    "    pd_today = pd.to_datetime(pd.Timestamp.now().date())\n",
    "    pd_drange = pd.date_range(pd_last_date, pd_today)   # 데이터를 갱신할 날짜 범위"
   ]
  },
  {
   "cell_type": "code",
   "execution_count": 143,
   "metadata": {},
   "outputs": [
    {
     "data": {
      "text/plain": [
       "Timestamp('2020-10-27 00:00:00', freq='D')"
      ]
     },
     "execution_count": 143,
     "metadata": {},
     "output_type": "execute_result"
    }
   ],
   "source": [
    "pd_date = pd_drange[0]"
   ]
  },
  {
   "cell_type": "code",
   "execution_count": 144,
   "metadata": {
    "collapsed": true,
    "jupyter": {
     "outputs_hidden": true
    }
   },
   "outputs": [
    {
     "data": {
      "text/html": [
       "<div>\n",
       "<style scoped>\n",
       "    .dataframe tbody tr th:only-of-type {\n",
       "        vertical-align: middle;\n",
       "    }\n",
       "\n",
       "    .dataframe tbody tr th {\n",
       "        vertical-align: top;\n",
       "    }\n",
       "\n",
       "    .dataframe thead th {\n",
       "        text-align: right;\n",
       "    }\n",
       "</style>\n",
       "<table border=\"1\" class=\"dataframe\">\n",
       "  <thead>\n",
       "    <tr style=\"text-align: right;\">\n",
       "      <th></th>\n",
       "      <th>종목코드</th>\n",
       "      <th>종목명</th>\n",
       "      <th>시가</th>\n",
       "      <th>고가</th>\n",
       "      <th>저가</th>\n",
       "      <th>종가</th>\n",
       "      <th>거래량</th>\n",
       "      <th>거래대금</th>\n",
       "      <th>시가총액</th>\n",
       "      <th>시총비중</th>\n",
       "      <th>상장주식수</th>\n",
       "    </tr>\n",
       "  </thead>\n",
       "  <tbody>\n",
       "    <tr>\n",
       "      <th>0</th>\n",
       "      <td>000020</td>\n",
       "      <td>동화약품</td>\n",
       "      <td>16850</td>\n",
       "      <td>18150</td>\n",
       "      <td>15900</td>\n",
       "      <td>17500</td>\n",
       "      <td>854079</td>\n",
       "      <td>14764308850</td>\n",
       "      <td>488800725000</td>\n",
       "      <td>0.029999</td>\n",
       "      <td>27931470</td>\n",
       "    </tr>\n",
       "    <tr>\n",
       "      <th>1</th>\n",
       "      <td>000040</td>\n",
       "      <td>KR모터스</td>\n",
       "      <td>944</td>\n",
       "      <td>970</td>\n",
       "      <td>921</td>\n",
       "      <td>923</td>\n",
       "      <td>1373435</td>\n",
       "      <td>1288723684</td>\n",
       "      <td>84603119614</td>\n",
       "      <td>0.000000</td>\n",
       "      <td>91661018</td>\n",
       "    </tr>\n",
       "    <tr>\n",
       "      <th>2</th>\n",
       "      <td>000050</td>\n",
       "      <td>경방</td>\n",
       "      <td>10700</td>\n",
       "      <td>10950</td>\n",
       "      <td>10650</td>\n",
       "      <td>10900</td>\n",
       "      <td>18826</td>\n",
       "      <td>203234700</td>\n",
       "      <td>298826443000</td>\n",
       "      <td>0.020004</td>\n",
       "      <td>27415270</td>\n",
       "    </tr>\n",
       "    <tr>\n",
       "      <th>3</th>\n",
       "      <td>000060</td>\n",
       "      <td>메리츠화재</td>\n",
       "      <td>14950</td>\n",
       "      <td>15150</td>\n",
       "      <td>14500</td>\n",
       "      <td>14650</td>\n",
       "      <td>330214</td>\n",
       "      <td>4894050450</td>\n",
       "      <td>1665412000000</td>\n",
       "      <td>0.090027</td>\n",
       "      <td>113680000</td>\n",
       "    </tr>\n",
       "    <tr>\n",
       "      <th>4</th>\n",
       "      <td>000070</td>\n",
       "      <td>삼양홀딩스</td>\n",
       "      <td>61200</td>\n",
       "      <td>62300</td>\n",
       "      <td>61200</td>\n",
       "      <td>62000</td>\n",
       "      <td>8836</td>\n",
       "      <td>547195200</td>\n",
       "      <td>530984802000</td>\n",
       "      <td>0.029999</td>\n",
       "      <td>8564271</td>\n",
       "    </tr>\n",
       "    <tr>\n",
       "      <th>...</th>\n",
       "      <td>...</td>\n",
       "      <td>...</td>\n",
       "      <td>...</td>\n",
       "      <td>...</td>\n",
       "      <td>...</td>\n",
       "      <td>...</td>\n",
       "      <td>...</td>\n",
       "      <td>...</td>\n",
       "      <td>...</td>\n",
       "      <td>...</td>\n",
       "      <td>...</td>\n",
       "    </tr>\n",
       "    <tr>\n",
       "      <th>2499</th>\n",
       "      <td>950160</td>\n",
       "      <td>코오롱티슈진</td>\n",
       "      <td>0</td>\n",
       "      <td>0</td>\n",
       "      <td>0</td>\n",
       "      <td>8010</td>\n",
       "      <td>0</td>\n",
       "      <td>0</td>\n",
       "      <td>489551575500</td>\n",
       "      <td>0.029999</td>\n",
       "      <td>61117550</td>\n",
       "    </tr>\n",
       "    <tr>\n",
       "      <th>2500</th>\n",
       "      <td>950170</td>\n",
       "      <td>JTC</td>\n",
       "      <td>4215</td>\n",
       "      <td>4290</td>\n",
       "      <td>4145</td>\n",
       "      <td>4200</td>\n",
       "      <td>48656</td>\n",
       "      <td>204350725</td>\n",
       "      <td>147023171400</td>\n",
       "      <td>0.010002</td>\n",
       "      <td>35005517</td>\n",
       "    </tr>\n",
       "    <tr>\n",
       "      <th>2501</th>\n",
       "      <td>950180</td>\n",
       "      <td>SNK</td>\n",
       "      <td>12400</td>\n",
       "      <td>12600</td>\n",
       "      <td>12100</td>\n",
       "      <td>12500</td>\n",
       "      <td>37169</td>\n",
       "      <td>457708100</td>\n",
       "      <td>263272500000</td>\n",
       "      <td>0.010002</td>\n",
       "      <td>21061800</td>\n",
       "    </tr>\n",
       "    <tr>\n",
       "      <th>2502</th>\n",
       "      <td>950190</td>\n",
       "      <td>미투젠</td>\n",
       "      <td>26700</td>\n",
       "      <td>27250</td>\n",
       "      <td>26450</td>\n",
       "      <td>26750</td>\n",
       "      <td>30228</td>\n",
       "      <td>811547800</td>\n",
       "      <td>344796586000</td>\n",
       "      <td>0.020004</td>\n",
       "      <td>12889592</td>\n",
       "    </tr>\n",
       "    <tr>\n",
       "      <th>2503</th>\n",
       "      <td>950200</td>\n",
       "      <td>소마젠(Reg.S)</td>\n",
       "      <td>11350</td>\n",
       "      <td>11750</td>\n",
       "      <td>11100</td>\n",
       "      <td>11500</td>\n",
       "      <td>142421</td>\n",
       "      <td>1629428000</td>\n",
       "      <td>217655014500</td>\n",
       "      <td>0.010002</td>\n",
       "      <td>18926523</td>\n",
       "    </tr>\n",
       "  </tbody>\n",
       "</table>\n",
       "<p>2504 rows × 11 columns</p>\n",
       "</div>"
      ],
      "text/plain": [
       "        종목코드         종목명     시가     고가     저가     종가      거래량         거래대금  \\\n",
       "0     000020        동화약품  16850  18150  15900  17500   854079  14764308850   \n",
       "1     000040       KR모터스    944    970    921    923  1373435   1288723684   \n",
       "2     000050          경방  10700  10950  10650  10900    18826    203234700   \n",
       "3     000060       메리츠화재  14950  15150  14500  14650   330214   4894050450   \n",
       "4     000070       삼양홀딩스  61200  62300  61200  62000     8836    547195200   \n",
       "...      ...         ...    ...    ...    ...    ...      ...          ...   \n",
       "2499  950160      코오롱티슈진      0      0      0   8010        0            0   \n",
       "2500  950170         JTC   4215   4290   4145   4200    48656    204350725   \n",
       "2501  950180         SNK  12400  12600  12100  12500    37169    457708100   \n",
       "2502  950190         미투젠  26700  27250  26450  26750    30228    811547800   \n",
       "2503  950200  소마젠(Reg.S)  11350  11750  11100  11500   142421   1629428000   \n",
       "\n",
       "               시가총액      시총비중      상장주식수  \n",
       "0      488800725000  0.029999   27931470  \n",
       "1       84603119614  0.000000   91661018  \n",
       "2      298826443000  0.020004   27415270  \n",
       "3     1665412000000  0.090027  113680000  \n",
       "4      530984802000  0.029999    8564271  \n",
       "...             ...       ...        ...  \n",
       "2499   489551575500  0.029999   61117550  \n",
       "2500   147023171400  0.010002   35005517  \n",
       "2501   263272500000  0.010002   21061800  \n",
       "2502   344796586000  0.020004   12889592  \n",
       "2503   217655014500  0.010002   18926523  \n",
       "\n",
       "[2504 rows x 11 columns]"
      ]
     },
     "execution_count": 144,
     "metadata": {},
     "output_type": "execute_result"
    }
   ],
   "source": [
    "df_update = stock.get_market_ohlcv_by_ticker(pd_date)\n",
    "df_update = df_update.reset_index()"
   ]
  },
  {
   "cell_type": "code",
   "execution_count": 145,
   "metadata": {},
   "outputs": [
    {
     "data": {
      "text/plain": [
       "'000020'"
      ]
     },
     "execution_count": 145,
     "metadata": {},
     "output_type": "execute_result"
    }
   ],
   "source": [
    "stock_code = stock_list['종목코드'].iloc[0]"
   ]
  },
  {
   "cell_type": "code",
   "execution_count": 173,
   "metadata": {},
   "outputs": [
    {
     "data": {
      "text/plain": [
       "array(['000020', '동화약품', 16850, 18150, 15900, 17500, 854079, 14764308850,\n",
       "       488800725000, 0.029998779296875, 27931470], dtype=object)"
      ]
     },
     "execution_count": 173,
     "metadata": {},
     "output_type": "execute_result"
    }
   ],
   "source": [
    "stock_ = df_update[df_update['종목코드']==stock_code].values[0]\n",
    "filename = f'temp/{stock_code}.csv'\n",
    "stock_"
   ]
  },
  {
   "cell_type": "code",
   "execution_count": 176,
   "metadata": {},
   "outputs": [
    {
     "data": {
      "text/plain": [
       "['000020', 0, 0, 0, 0, 0, 0]"
      ]
     },
     "execution_count": 176,
     "metadata": {},
     "output_type": "execute_result"
    }
   ],
   "source": [
    "\n",
    "filename = f'temp/{stock_code}.csv'\n",
    "stock_"
   ]
  },
  {
   "cell_type": "code",
   "execution_count": 166,
   "metadata": {},
   "outputs": [
    {
     "data": {
      "text/plain": [
       "pandas.core.frame.DataFrame"
      ]
     },
     "execution_count": 166,
     "metadata": {},
     "output_type": "execute_result"
    }
   ],
   "source": []
  },
  {
   "cell_type": "code",
   "execution_count": 177,
   "metadata": {},
   "outputs": [
    {
     "data": {
      "text/html": [
       "<div>\n",
       "<style scoped>\n",
       "    .dataframe tbody tr th:only-of-type {\n",
       "        vertical-align: middle;\n",
       "    }\n",
       "\n",
       "    .dataframe tbody tr th {\n",
       "        vertical-align: top;\n",
       "    }\n",
       "\n",
       "    .dataframe thead th {\n",
       "        text-align: right;\n",
       "    }\n",
       "</style>\n",
       "<table border=\"1\" class=\"dataframe\">\n",
       "  <thead>\n",
       "    <tr style=\"text-align: right;\">\n",
       "      <th></th>\n",
       "      <th>date</th>\n",
       "      <th>open</th>\n",
       "      <th>high</th>\n",
       "      <th>low</th>\n",
       "      <th>close</th>\n",
       "      <th>volume</th>\n",
       "      <th>pattern1</th>\n",
       "      <th>pattern2</th>\n",
       "      <th>pattern3</th>\n",
       "      <th>nasdaq</th>\n",
       "    </tr>\n",
       "  </thead>\n",
       "  <tbody>\n",
       "    <tr>\n",
       "      <th>0</th>\n",
       "      <td>2012-01-02</td>\n",
       "      <td>4070</td>\n",
       "      <td>4100</td>\n",
       "      <td>4060</td>\n",
       "      <td>4085</td>\n",
       "      <td>25451</td>\n",
       "      <td>K00</td>\n",
       "      <td>NaN</td>\n",
       "      <td>NaN</td>\n",
       "      <td>NaN</td>\n",
       "    </tr>\n",
       "    <tr>\n",
       "      <th>1</th>\n",
       "      <td>2012-01-03</td>\n",
       "      <td>4100</td>\n",
       "      <td>4160</td>\n",
       "      <td>4100</td>\n",
       "      <td>4130</td>\n",
       "      <td>45291</td>\n",
       "      <td>P03</td>\n",
       "      <td>K00P03</td>\n",
       "      <td>NaN</td>\n",
       "      <td>NaN</td>\n",
       "    </tr>\n",
       "    <tr>\n",
       "      <th>2</th>\n",
       "      <td>2012-01-04</td>\n",
       "      <td>4135</td>\n",
       "      <td>4160</td>\n",
       "      <td>4125</td>\n",
       "      <td>4150</td>\n",
       "      <td>42911</td>\n",
       "      <td>K00</td>\n",
       "      <td>P00K00</td>\n",
       "      <td>P10K00</td>\n",
       "      <td>U04</td>\n",
       "    </tr>\n",
       "    <tr>\n",
       "      <th>3</th>\n",
       "      <td>2012-01-05</td>\n",
       "      <td>4150</td>\n",
       "      <td>4290</td>\n",
       "      <td>4110</td>\n",
       "      <td>4270</td>\n",
       "      <td>85140</td>\n",
       "      <td>P05</td>\n",
       "      <td>K00P05</td>\n",
       "      <td>P10P05</td>\n",
       "      <td>T01</td>\n",
       "    </tr>\n",
       "    <tr>\n",
       "      <th>4</th>\n",
       "      <td>2012-01-06</td>\n",
       "      <td>4300</td>\n",
       "      <td>4325</td>\n",
       "      <td>4220</td>\n",
       "      <td>4240</td>\n",
       "      <td>45535</td>\n",
       "      <td>M05</td>\n",
       "      <td>P00M05</td>\n",
       "      <td>P10M05</td>\n",
       "      <td>U04</td>\n",
       "    </tr>\n",
       "    <tr>\n",
       "      <th>...</th>\n",
       "      <td>...</td>\n",
       "      <td>...</td>\n",
       "      <td>...</td>\n",
       "      <td>...</td>\n",
       "      <td>...</td>\n",
       "      <td>...</td>\n",
       "      <td>...</td>\n",
       "      <td>...</td>\n",
       "      <td>...</td>\n",
       "      <td>...</td>\n",
       "    </tr>\n",
       "    <tr>\n",
       "      <th>2166</th>\n",
       "      <td>2020-10-22</td>\n",
       "      <td>19850</td>\n",
       "      <td>20050</td>\n",
       "      <td>19000</td>\n",
       "      <td>19200</td>\n",
       "      <td>620779</td>\n",
       "      <td>M05</td>\n",
       "      <td>M00M05</td>\n",
       "      <td>M10M05</td>\n",
       "      <td>D04</td>\n",
       "    </tr>\n",
       "    <tr>\n",
       "      <th>2167</th>\n",
       "      <td>2020-10-23</td>\n",
       "      <td>19500</td>\n",
       "      <td>20600</td>\n",
       "      <td>19350</td>\n",
       "      <td>19800</td>\n",
       "      <td>563966</td>\n",
       "      <td>P05</td>\n",
       "      <td>M00P05</td>\n",
       "      <td>M10P05</td>\n",
       "      <td>U03</td>\n",
       "    </tr>\n",
       "    <tr>\n",
       "      <th>2168</th>\n",
       "      <td>2020-10-26</td>\n",
       "      <td>19500</td>\n",
       "      <td>19750</td>\n",
       "      <td>17000</td>\n",
       "      <td>17100</td>\n",
       "      <td>1338181</td>\n",
       "      <td>M15</td>\n",
       "      <td>P00M15</td>\n",
       "      <td>S01M15</td>\n",
       "      <td>U04</td>\n",
       "    </tr>\n",
       "    <tr>\n",
       "      <th>2169</th>\n",
       "      <td>2020-10-27</td>\n",
       "      <td>16850</td>\n",
       "      <td>18150</td>\n",
       "      <td>15900</td>\n",
       "      <td>17500</td>\n",
       "      <td>851662</td>\n",
       "      <td>P05</td>\n",
       "      <td>M10P05</td>\n",
       "      <td>S07P05</td>\n",
       "      <td>D04</td>\n",
       "    </tr>\n",
       "    <tr>\n",
       "      <th>2170</th>\n",
       "      <td>2020-10-27</td>\n",
       "      <td>0</td>\n",
       "      <td>0</td>\n",
       "      <td>0</td>\n",
       "      <td>0</td>\n",
       "      <td>0</td>\n",
       "      <td>NaN</td>\n",
       "      <td>NaN</td>\n",
       "      <td>NaN</td>\n",
       "      <td>NaN</td>\n",
       "    </tr>\n",
       "  </tbody>\n",
       "</table>\n",
       "<p>2171 rows × 10 columns</p>\n",
       "</div>"
      ],
      "text/plain": [
       "           date   open   high    low  close   volume pattern1 pattern2  \\\n",
       "0    2012-01-02   4070   4100   4060   4085    25451      K00      NaN   \n",
       "1    2012-01-03   4100   4160   4100   4130    45291      P03   K00P03   \n",
       "2    2012-01-04   4135   4160   4125   4150    42911      K00   P00K00   \n",
       "3    2012-01-05   4150   4290   4110   4270    85140      P05   K00P05   \n",
       "4    2012-01-06   4300   4325   4220   4240    45535      M05   P00M05   \n",
       "...         ...    ...    ...    ...    ...      ...      ...      ...   \n",
       "2166 2020-10-22  19850  20050  19000  19200   620779      M05   M00M05   \n",
       "2167 2020-10-23  19500  20600  19350  19800   563966      P05   M00P05   \n",
       "2168 2020-10-26  19500  19750  17000  17100  1338181      M15   P00M15   \n",
       "2169 2020-10-27  16850  18150  15900  17500   851662      P05   M10P05   \n",
       "2170 2020-10-27      0      0      0      0        0      NaN      NaN   \n",
       "\n",
       "     pattern3 nasdaq  \n",
       "0         NaN    NaN  \n",
       "1         NaN    NaN  \n",
       "2      P10K00    U04  \n",
       "3      P10P05    T01  \n",
       "4      P10M05    U04  \n",
       "...       ...    ...  \n",
       "2166   M10M05    D04  \n",
       "2167   M10P05    U03  \n",
       "2168   S01M15    U04  \n",
       "2169   S07P05    D04  \n",
       "2170      NaN    NaN  \n",
       "\n",
       "[2171 rows x 10 columns]"
      ]
     },
     "execution_count": 177,
     "metadata": {},
     "output_type": "execute_result"
    }
   ],
   "source": [
    "update_target = pd.read_csv(filename, parse_dates=['date'], index_col=[0])\n",
    "update_target = update_target.append({'date':pd_date,'open':stock_[2],'high':stock_[3],'low':stock_[4],'close':stock_[5],'volume':stock_[6]}, \n",
    "                                    ignore_index=True)\n",
    "update_target"
   ]
  },
  {
   "cell_type": "code",
   "execution_count": 181,
   "metadata": {},
   "outputs": [
    {
     "data": {
      "text/plain": [
       "2170"
      ]
     },
     "execution_count": 181,
     "metadata": {},
     "output_type": "execute_result"
    }
   ],
   "source": [
    "last_idx"
   ]
  },
  {
   "cell_type": "code",
   "execution_count": null,
   "metadata": {},
   "outputs": [],
   "source": []
  },
  {
   "cell_type": "code",
   "execution_count": null,
   "metadata": {},
   "outputs": [],
   "source": []
  },
  {
   "cell_type": "code",
   "execution_count": null,
   "metadata": {},
   "outputs": [],
   "source": []
  },
  {
   "cell_type": "code",
   "execution_count": null,
   "metadata": {},
   "outputs": [],
   "source": []
  },
  {
   "cell_type": "code",
   "execution_count": null,
   "metadata": {},
   "outputs": [],
   "source": []
  },
  {
   "cell_type": "code",
   "execution_count": null,
   "metadata": {},
   "outputs": [],
   "source": []
  },
  {
   "cell_type": "code",
   "execution_count": null,
   "metadata": {},
   "outputs": [],
   "source": []
  },
  {
   "cell_type": "code",
   "execution_count": null,
   "metadata": {},
   "outputs": [],
   "source": []
  }
 ],
 "metadata": {
  "kernelspec": {
   "display_name": "Python 3",
   "language": "python",
   "name": "python3"
  },
  "language_info": {
   "codemirror_mode": {
    "name": "ipython",
    "version": 3
   },
   "file_extension": ".py",
   "mimetype": "text/x-python",
   "name": "python",
   "nbconvert_exporter": "python",
   "pygments_lexer": "ipython3",
   "version": "3.7.4"
  }
 },
 "nbformat": 4,
 "nbformat_minor": 4
}
