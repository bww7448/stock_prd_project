{
 "cells": [
  {
   "cell_type": "code",
   "execution_count": 2,
   "metadata": {},
   "outputs": [
    {
     "data": {
      "text/plain": [
       "'2.3.1'"
      ]
     },
     "execution_count": 2,
     "metadata": {},
     "output_type": "execute_result"
    }
   ],
   "source": [
    "from time import time\n",
    "\n",
    "import pandas as pd\n",
    "from pykrx import stock\n",
    "import keras\n",
    "keras.__version__"
   ]
  },
  {
   "cell_type": "code",
   "execution_count": 28,
   "metadata": {},
   "outputs": [],
   "source": [
    "com_list = pd.read_csv(\"상장법인목록3.csv\")"
   ]
  },
  {
   "cell_type": "code",
   "execution_count": 67,
   "metadata": {},
   "outputs": [],
   "source": [
    "com_code = str(int(com_list[com_list[\"회사명\"]==\"삼성전자\"][\"종목코드\"]))\n",
    "com_code = \"0\"*(6-len(temp))+temp"
   ]
  },
  {
   "cell_type": "code",
   "execution_count": null,
   "metadata": {},
   "outputs": [],
   "source": [
    "today = pd.Timestamp.now()\n",
    "today = str(today.year)+str(today.month)+str(today.day)\n",
    "today"
   ]
  },
  {
   "cell_type": "code",
   "execution_count": 91,
   "metadata": {},
   "outputs": [
    {
     "data": {
      "text/html": [
       "<div>\n",
       "<style scoped>\n",
       "    .dataframe tbody tr th:only-of-type {\n",
       "        vertical-align: middle;\n",
       "    }\n",
       "\n",
       "    .dataframe tbody tr th {\n",
       "        vertical-align: top;\n",
       "    }\n",
       "\n",
       "    .dataframe thead th {\n",
       "        text-align: right;\n",
       "    }\n",
       "</style>\n",
       "<table border=\"1\" class=\"dataframe\">\n",
       "  <thead>\n",
       "    <tr style=\"text-align: right;\">\n",
       "      <th>삼성전자</th>\n",
       "      <th>시가</th>\n",
       "      <th>고가</th>\n",
       "      <th>저가</th>\n",
       "      <th>종가</th>\n",
       "      <th>거래량</th>\n",
       "    </tr>\n",
       "    <tr>\n",
       "      <th>날짜</th>\n",
       "      <th></th>\n",
       "      <th></th>\n",
       "      <th></th>\n",
       "      <th></th>\n",
       "      <th></th>\n",
       "    </tr>\n",
       "  </thead>\n",
       "  <tbody>\n",
       "    <tr>\n",
       "      <th>2017-05-10</th>\n",
       "      <td>46160</td>\n",
       "      <td>47220</td>\n",
       "      <td>45600</td>\n",
       "      <td>45600</td>\n",
       "      <td>468219</td>\n",
       "    </tr>\n",
       "    <tr>\n",
       "      <th>2017-05-11</th>\n",
       "      <td>45420</td>\n",
       "      <td>46180</td>\n",
       "      <td>45220</td>\n",
       "      <td>45500</td>\n",
       "      <td>425557</td>\n",
       "    </tr>\n",
       "    <tr>\n",
       "      <th>2017-05-12</th>\n",
       "      <td>45760</td>\n",
       "      <td>46160</td>\n",
       "      <td>45660</td>\n",
       "      <td>45820</td>\n",
       "      <td>188458</td>\n",
       "    </tr>\n",
       "    <tr>\n",
       "      <th>2017-05-15</th>\n",
       "      <td>45620</td>\n",
       "      <td>46280</td>\n",
       "      <td>45620</td>\n",
       "      <td>46100</td>\n",
       "      <td>160028</td>\n",
       "    </tr>\n",
       "    <tr>\n",
       "      <th>2017-05-16</th>\n",
       "      <td>46660</td>\n",
       "      <td>46800</td>\n",
       "      <td>46100</td>\n",
       "      <td>46380</td>\n",
       "      <td>176075</td>\n",
       "    </tr>\n",
       "    <tr>\n",
       "      <th>...</th>\n",
       "      <td>...</td>\n",
       "      <td>...</td>\n",
       "      <td>...</td>\n",
       "      <td>...</td>\n",
       "      <td>...</td>\n",
       "    </tr>\n",
       "    <tr>\n",
       "      <th>2020-10-08</th>\n",
       "      <td>60500</td>\n",
       "      <td>60700</td>\n",
       "      <td>59500</td>\n",
       "      <td>59700</td>\n",
       "      <td>24589924</td>\n",
       "    </tr>\n",
       "    <tr>\n",
       "      <th>2020-10-12</th>\n",
       "      <td>60000</td>\n",
       "      <td>60400</td>\n",
       "      <td>59900</td>\n",
       "      <td>60400</td>\n",
       "      <td>16145837</td>\n",
       "    </tr>\n",
       "    <tr>\n",
       "      <th>2020-10-13</th>\n",
       "      <td>61000</td>\n",
       "      <td>61400</td>\n",
       "      <td>60400</td>\n",
       "      <td>60900</td>\n",
       "      <td>19247631</td>\n",
       "    </tr>\n",
       "    <tr>\n",
       "      <th>2020-10-14</th>\n",
       "      <td>61000</td>\n",
       "      <td>61100</td>\n",
       "      <td>60500</td>\n",
       "      <td>60900</td>\n",
       "      <td>16086716</td>\n",
       "    </tr>\n",
       "    <tr>\n",
       "      <th>2020-10-15</th>\n",
       "      <td>60700</td>\n",
       "      <td>60800</td>\n",
       "      <td>59700</td>\n",
       "      <td>59900</td>\n",
       "      <td>13488911</td>\n",
       "    </tr>\n",
       "  </tbody>\n",
       "</table>\n",
       "<p>843 rows × 5 columns</p>\n",
       "</div>"
      ],
      "text/plain": [
       "삼성전자           시가     고가     저가     종가       거래량\n",
       "날짜                                              \n",
       "2017-05-10  46160  47220  45600  45600    468219\n",
       "2017-05-11  45420  46180  45220  45500    425557\n",
       "2017-05-12  45760  46160  45660  45820    188458\n",
       "2017-05-15  45620  46280  45620  46100    160028\n",
       "2017-05-16  46660  46800  46100  46380    176075\n",
       "...           ...    ...    ...    ...       ...\n",
       "2020-10-08  60500  60700  59500  59700  24589924\n",
       "2020-10-12  60000  60400  59900  60400  16145837\n",
       "2020-10-13  61000  61400  60400  60900  19247631\n",
       "2020-10-14  61000  61100  60500  60900  16086716\n",
       "2020-10-15  60700  60800  59700  59900  13488911\n",
       "\n",
       "[843 rows x 5 columns]"
      ]
     },
     "execution_count": 91,
     "metadata": {},
     "output_type": "execute_result"
    }
   ],
   "source": [
    "df = stock.get_market_ohlcv_by_date(\"20170510\", today, com_code)\n",
    "df"
   ]
  },
  {
   "cell_type": "code",
   "execution_count": null,
   "metadata": {},
   "outputs": [],
   "source": [
    "\n"
   ]
  }
 ],
 "metadata": {
  "kernelspec": {
   "display_name": "Python 3",
   "language": "python",
   "name": "python3"
  },
  "language_info": {
   "codemirror_mode": {
    "name": "ipython",
    "version": 3
   },
   "file_extension": ".py",
   "mimetype": "text/x-python",
   "name": "python",
   "nbconvert_exporter": "python",
   "pygments_lexer": "ipython3",
   "version": "3.7.4"
  }
 },
 "nbformat": 4,
 "nbformat_minor": 4
}
