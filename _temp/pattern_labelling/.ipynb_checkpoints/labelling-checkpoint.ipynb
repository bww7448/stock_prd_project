{
 "cells": [
  {
   "cell_type": "code",
   "execution_count": 1,
   "metadata": {
    "collapsed": true,
    "jupyter": {
     "outputs_hidden": true
    }
   },
   "outputs": [
    {
     "name": "stderr",
     "output_type": "stream",
     "text": [
      "Using TensorFlow backend.\n",
      "C:\\ProgramData\\Anaconda3\\lib\\site-packages\\tensorflow\\python\\framework\\dtypes.py:516: FutureWarning: Passing (type, 1) or '1type' as a synonym of type is deprecated; in a future version of numpy, it will be understood as (type, (1,)) / '(1,)type'.\n",
      "  _np_qint8 = np.dtype([(\"qint8\", np.int8, 1)])\n",
      "C:\\ProgramData\\Anaconda3\\lib\\site-packages\\tensorflow\\python\\framework\\dtypes.py:517: FutureWarning: Passing (type, 1) or '1type' as a synonym of type is deprecated; in a future version of numpy, it will be understood as (type, (1,)) / '(1,)type'.\n",
      "  _np_quint8 = np.dtype([(\"quint8\", np.uint8, 1)])\n",
      "C:\\ProgramData\\Anaconda3\\lib\\site-packages\\tensorflow\\python\\framework\\dtypes.py:518: FutureWarning: Passing (type, 1) or '1type' as a synonym of type is deprecated; in a future version of numpy, it will be understood as (type, (1,)) / '(1,)type'.\n",
      "  _np_qint16 = np.dtype([(\"qint16\", np.int16, 1)])\n",
      "C:\\ProgramData\\Anaconda3\\lib\\site-packages\\tensorflow\\python\\framework\\dtypes.py:519: FutureWarning: Passing (type, 1) or '1type' as a synonym of type is deprecated; in a future version of numpy, it will be understood as (type, (1,)) / '(1,)type'.\n",
      "  _np_quint16 = np.dtype([(\"quint16\", np.uint16, 1)])\n",
      "C:\\ProgramData\\Anaconda3\\lib\\site-packages\\tensorflow\\python\\framework\\dtypes.py:520: FutureWarning: Passing (type, 1) or '1type' as a synonym of type is deprecated; in a future version of numpy, it will be understood as (type, (1,)) / '(1,)type'.\n",
      "  _np_qint32 = np.dtype([(\"qint32\", np.int32, 1)])\n",
      "C:\\ProgramData\\Anaconda3\\lib\\site-packages\\tensorflow\\python\\framework\\dtypes.py:525: FutureWarning: Passing (type, 1) or '1type' as a synonym of type is deprecated; in a future version of numpy, it will be understood as (type, (1,)) / '(1,)type'.\n",
      "  np_resource = np.dtype([(\"resource\", np.ubyte, 1)])\n",
      "C:\\ProgramData\\Anaconda3\\lib\\site-packages\\tensorboard\\compat\\tensorflow_stub\\dtypes.py:541: FutureWarning: Passing (type, 1) or '1type' as a synonym of type is deprecated; in a future version of numpy, it will be understood as (type, (1,)) / '(1,)type'.\n",
      "  _np_qint8 = np.dtype([(\"qint8\", np.int8, 1)])\n",
      "C:\\ProgramData\\Anaconda3\\lib\\site-packages\\tensorboard\\compat\\tensorflow_stub\\dtypes.py:542: FutureWarning: Passing (type, 1) or '1type' as a synonym of type is deprecated; in a future version of numpy, it will be understood as (type, (1,)) / '(1,)type'.\n",
      "  _np_quint8 = np.dtype([(\"quint8\", np.uint8, 1)])\n",
      "C:\\ProgramData\\Anaconda3\\lib\\site-packages\\tensorboard\\compat\\tensorflow_stub\\dtypes.py:543: FutureWarning: Passing (type, 1) or '1type' as a synonym of type is deprecated; in a future version of numpy, it will be understood as (type, (1,)) / '(1,)type'.\n",
      "  _np_qint16 = np.dtype([(\"qint16\", np.int16, 1)])\n",
      "C:\\ProgramData\\Anaconda3\\lib\\site-packages\\tensorboard\\compat\\tensorflow_stub\\dtypes.py:544: FutureWarning: Passing (type, 1) or '1type' as a synonym of type is deprecated; in a future version of numpy, it will be understood as (type, (1,)) / '(1,)type'.\n",
      "  _np_quint16 = np.dtype([(\"quint16\", np.uint16, 1)])\n",
      "C:\\ProgramData\\Anaconda3\\lib\\site-packages\\tensorboard\\compat\\tensorflow_stub\\dtypes.py:545: FutureWarning: Passing (type, 1) or '1type' as a synonym of type is deprecated; in a future version of numpy, it will be understood as (type, (1,)) / '(1,)type'.\n",
      "  _np_qint32 = np.dtype([(\"qint32\", np.int32, 1)])\n",
      "C:\\ProgramData\\Anaconda3\\lib\\site-packages\\tensorboard\\compat\\tensorflow_stub\\dtypes.py:550: FutureWarning: Passing (type, 1) or '1type' as a synonym of type is deprecated; in a future version of numpy, it will be understood as (type, (1,)) / '(1,)type'.\n",
      "  np_resource = np.dtype([(\"resource\", np.ubyte, 1)])\n"
     ]
    },
    {
     "data": {
      "text/plain": [
       "'2.3.1'"
      ]
     },
     "execution_count": 1,
     "metadata": {},
     "output_type": "execute_result"
    }
   ],
   "source": [
    "from pykrx import stock\n",
    "import pandas as pd\n",
    "import numpy as np"
   ]
  },
  {
   "cell_type": "code",
   "execution_count": 2,
   "metadata": {},
   "outputs": [
    {
     "data": {
      "text/plain": [
       "'20201021'"
      ]
     },
     "execution_count": 2,
     "metadata": {},
     "output_type": "execute_result"
    }
   ],
   "source": [
    "today = pd.Timestamp.now()\n",
    "today = str(today.year)+str(today.month)+str(today.day)\n",
    "today"
   ]
  },
  {
   "cell_type": "code",
   "execution_count": 69,
   "metadata": {},
   "outputs": [
    {
     "data": {
      "text/html": [
       "<div>\n",
       "<style scoped>\n",
       "    .dataframe tbody tr th:only-of-type {\n",
       "        vertical-align: middle;\n",
       "    }\n",
       "\n",
       "    .dataframe tbody tr th {\n",
       "        vertical-align: top;\n",
       "    }\n",
       "\n",
       "    .dataframe thead th {\n",
       "        text-align: right;\n",
       "    }\n",
       "</style>\n",
       "<table border=\"1\" class=\"dataframe\">\n",
       "  <thead>\n",
       "    <tr style=\"text-align: right;\">\n",
       "      <th>삼성전자</th>\n",
       "      <th>open</th>\n",
       "      <th>high</th>\n",
       "      <th>low</th>\n",
       "      <th>close</th>\n",
       "      <th>volume</th>\n",
       "    </tr>\n",
       "    <tr>\n",
       "      <th>날짜</th>\n",
       "      <th></th>\n",
       "      <th></th>\n",
       "      <th></th>\n",
       "      <th></th>\n",
       "      <th></th>\n",
       "    </tr>\n",
       "  </thead>\n",
       "  <tbody>\n",
       "    <tr>\n",
       "      <th>2012-01-02</th>\n",
       "      <td>21400</td>\n",
       "      <td>21600</td>\n",
       "      <td>21300</td>\n",
       "      <td>21600</td>\n",
       "      <td>263300</td>\n",
       "    </tr>\n",
       "    <tr>\n",
       "      <th>2012-01-03</th>\n",
       "      <td>21860</td>\n",
       "      <td>22100</td>\n",
       "      <td>21840</td>\n",
       "      <td>22100</td>\n",
       "      <td>339046</td>\n",
       "    </tr>\n",
       "    <tr>\n",
       "      <th>2012-01-04</th>\n",
       "      <td>22100</td>\n",
       "      <td>22200</td>\n",
       "      <td>21500</td>\n",
       "      <td>21600</td>\n",
       "      <td>342389</td>\n",
       "    </tr>\n",
       "    <tr>\n",
       "      <th>2012-01-05</th>\n",
       "      <td>21460</td>\n",
       "      <td>21580</td>\n",
       "      <td>21100</td>\n",
       "      <td>21100</td>\n",
       "      <td>346691</td>\n",
       "    </tr>\n",
       "    <tr>\n",
       "      <th>2012-01-06</th>\n",
       "      <td>21120</td>\n",
       "      <td>21319</td>\n",
       "      <td>20600</td>\n",
       "      <td>20800</td>\n",
       "      <td>376753</td>\n",
       "    </tr>\n",
       "    <tr>\n",
       "      <th>2012-01-09</th>\n",
       "      <td>20800</td>\n",
       "      <td>20820</td>\n",
       "      <td>20300</td>\n",
       "      <td>20320</td>\n",
       "      <td>387166</td>\n",
       "    </tr>\n",
       "    <tr>\n",
       "      <th>2012-01-10</th>\n",
       "      <td>20420</td>\n",
       "      <td>20720</td>\n",
       "      <td>20420</td>\n",
       "      <td>20520</td>\n",
       "      <td>409381</td>\n",
       "    </tr>\n",
       "    <tr>\n",
       "      <th>2012-01-11</th>\n",
       "      <td>20340</td>\n",
       "      <td>20480</td>\n",
       "      <td>20280</td>\n",
       "      <td>20420</td>\n",
       "      <td>382904</td>\n",
       "    </tr>\n",
       "    <tr>\n",
       "      <th>2012-01-12</th>\n",
       "      <td>20320</td>\n",
       "      <td>20580</td>\n",
       "      <td>20220</td>\n",
       "      <td>20560</td>\n",
       "      <td>371462</td>\n",
       "    </tr>\n",
       "    <tr>\n",
       "      <th>2012-01-13</th>\n",
       "      <td>20560</td>\n",
       "      <td>21000</td>\n",
       "      <td>20520</td>\n",
       "      <td>20920</td>\n",
       "      <td>293017</td>\n",
       "    </tr>\n",
       "  </tbody>\n",
       "</table>\n",
       "</div>"
      ],
      "text/plain": [
       "삼성전자         open   high    low  close  volume\n",
       "날짜                                            \n",
       "2012-01-02  21400  21600  21300  21600  263300\n",
       "2012-01-03  21860  22100  21840  22100  339046\n",
       "2012-01-04  22100  22200  21500  21600  342389\n",
       "2012-01-05  21460  21580  21100  21100  346691\n",
       "2012-01-06  21120  21319  20600  20800  376753\n",
       "2012-01-09  20800  20820  20300  20320  387166\n",
       "2012-01-10  20420  20720  20420  20520  409381\n",
       "2012-01-11  20340  20480  20280  20420  382904\n",
       "2012-01-12  20320  20580  20220  20560  371462\n",
       "2012-01-13  20560  21000  20520  20920  293017"
      ]
     },
     "execution_count": 69,
     "metadata": {},
     "output_type": "execute_result"
    }
   ],
   "source": [
    "df = stock.get_market_ohlcv_by_date(\"20120101\", today, \"005930\")\n",
    "df.columns = pd.Index([\"open\", \"high\",\"low\",\"close\",\"volume\"],name=df.columns.name)\n",
    "df.head(10)"
   ]
  },
  {
   "cell_type": "code",
   "execution_count": 4,
   "metadata": {},
   "outputs": [
    {
     "data": {
      "text/plain": [
       "삼성전자\n",
       "open       21460\n",
       "high       21580\n",
       "low        21100\n",
       "close      21100\n",
       "volume    346691\n",
       "Name: 2012-01-05 00:00:00, dtype: int32"
      ]
     },
     "execution_count": 4,
     "metadata": {},
     "output_type": "execute_result"
    }
   ],
   "source": [
    "test = df.iloc[3]\n",
    "test"
   ]
  },
  {
   "cell_type": "code",
   "execution_count": 5,
   "metadata": {},
   "outputs": [
    {
     "data": {
      "text/plain": [
       "21460"
      ]
     },
     "execution_count": 5,
     "metadata": {},
     "output_type": "execute_result"
    }
   ],
   "source": [
    "test['open']"
   ]
  },
  {
   "cell_type": "code",
   "execution_count": 6,
   "metadata": {},
   "outputs": [],
   "source": [
    "def labellingD0(d0) -> str:\n",
    "    '''\n",
    "    D0 시점의 각 봉에 대한 라벨링 25가지\n",
    "    '''\n",
    "    openP = d0['open']\n",
    "    highP = d0['high']\n",
    "    lowP = d0['low']\n",
    "    closeP = d0['close']\n",
    "    \n",
    "    # 장대 양봉\n",
    "    if closeP >= 1.1*openP:\n",
    "        if closeP < highP:\n",
    "            if openP > lowP:\n",
    "                return \"P15\"\n",
    "            if highP - 2*closeP + openP >= 0:\n",
    "                return \"P14\"\n",
    "            return \"P13\"\n",
    "        if openP > lowP:\n",
    "            return \"P11\"\n",
    "        return \"P10\"\n",
    "\n",
    "    # 짧은 양봉\n",
    "    elif closeP >= 1.005*openP:\n",
    "        if closeP < highP:\n",
    "            if openP > lowP:\n",
    "                return \"P05\"\n",
    "            if highP -3*closeP + 2*openP >= 0:\n",
    "                return \"P04\"\n",
    "            return \"P03\"\n",
    "        if openP > lowP:\n",
    "            if 2*highP - 3*openP + lowP >= 0:\n",
    "                return \"P01\"\n",
    "            return \"P02\"\n",
    "        return \"P00\"\n",
    "\n",
    "    # 보합\n",
    "    elif closeP >= openP:\n",
    "        end_min = closeP - lowP\n",
    "        Max_end = highP - closeP\n",
    "        if end_min > Max_end*3:\n",
    "            return \"K01\"\n",
    "        elif end_min*3 < Max_end:\n",
    "            return \"K02\"\n",
    "        return \"K00\"\n",
    "\n",
    "    # 짧은 음봉\n",
    "    elif closeP >= 0.9*openP:\n",
    "        if openP < highP :\n",
    "            if closeP > lowP :\n",
    "                return \"M05\"\n",
    "            if highP -3*openP +2*closeP < 0:\n",
    "                return \"M03\"\n",
    "            return \"M04\"\n",
    "        if closeP > lowP :\n",
    "            if 3*closeP - lowP - 2*openP < 0:\n",
    "                return \"M01\"\n",
    "            return \"M02\"\n",
    "        return \"M00\"\n",
    "\n",
    "    # 장대 음봉\n",
    "    else:\n",
    "        if closeP > lowP :\n",
    "            if openP < highP :\n",
    "                return \"M15\"\n",
    "            return \"M11\"\n",
    "        if openP < highP :\n",
    "            if highP -2*openP + closeP >= 0:\n",
    "                return \"M14\"\n",
    "            return \"M13\"\n",
    "        return \"M10\""
   ]
  },
  {
   "cell_type": "code",
   "execution_count": 7,
   "metadata": {},
   "outputs": [
    {
     "data": {
      "text/plain": [
       "'M03'"
      ]
     },
     "execution_count": 7,
     "metadata": {},
     "output_type": "execute_result"
    }
   ],
   "source": [
    "labellingD0(test)"
   ]
  },
  {
   "cell_type": "code",
   "execution_count": 8,
   "metadata": {},
   "outputs": [
    {
     "data": {
      "text/plain": [
       "삼성전자\n",
       "open       21460\n",
       "high       21580\n",
       "low        21100\n",
       "close      21100\n",
       "volume    346691\n",
       "Name: 2012-01-05 00:00:00, dtype: int32"
      ]
     },
     "execution_count": 8,
     "metadata": {},
     "output_type": "execute_result"
    }
   ],
   "source": [
    "test"
   ]
  },
  {
   "cell_type": "code",
   "execution_count": 9,
   "metadata": {},
   "outputs": [
    {
     "data": {
      "text/plain": [
       "pandas.core.series.Series"
      ]
     },
     "execution_count": 9,
     "metadata": {},
     "output_type": "execute_result"
    }
   ],
   "source": [
    "type(test)"
   ]
  },
  {
   "cell_type": "code",
   "execution_count": 10,
   "metadata": {},
   "outputs": [
    {
     "data": {
      "text/html": [
       "<div>\n",
       "<style scoped>\n",
       "    .dataframe tbody tr th:only-of-type {\n",
       "        vertical-align: middle;\n",
       "    }\n",
       "\n",
       "    .dataframe tbody tr th {\n",
       "        vertical-align: top;\n",
       "    }\n",
       "\n",
       "    .dataframe thead th {\n",
       "        text-align: right;\n",
       "    }\n",
       "</style>\n",
       "<table border=\"1\" class=\"dataframe\">\n",
       "  <thead>\n",
       "    <tr style=\"text-align: right;\">\n",
       "      <th>삼성전자</th>\n",
       "      <th>open</th>\n",
       "      <th>high</th>\n",
       "      <th>low</th>\n",
       "      <th>close</th>\n",
       "      <th>volume</th>\n",
       "    </tr>\n",
       "    <tr>\n",
       "      <th>날짜</th>\n",
       "      <th></th>\n",
       "      <th></th>\n",
       "      <th></th>\n",
       "      <th></th>\n",
       "      <th></th>\n",
       "    </tr>\n",
       "  </thead>\n",
       "  <tbody>\n",
       "    <tr>\n",
       "      <th>2012-01-05</th>\n",
       "      <td>21460</td>\n",
       "      <td>21580</td>\n",
       "      <td>21100</td>\n",
       "      <td>21100</td>\n",
       "      <td>346691</td>\n",
       "    </tr>\n",
       "    <tr>\n",
       "      <th>2012-01-06</th>\n",
       "      <td>21120</td>\n",
       "      <td>21319</td>\n",
       "      <td>20600</td>\n",
       "      <td>20800</td>\n",
       "      <td>376753</td>\n",
       "    </tr>\n",
       "  </tbody>\n",
       "</table>\n",
       "</div>"
      ],
      "text/plain": [
       "삼성전자         open   high    low  close  volume\n",
       "날짜                                            \n",
       "2012-01-05  21460  21580  21100  21100  346691\n",
       "2012-01-06  21120  21319  20600  20800  376753"
      ]
     },
     "execution_count": 10,
     "metadata": {},
     "output_type": "execute_result"
    }
   ],
   "source": [
    "test2 = df.iloc[3:3+2]\n",
    "test2"
   ]
  },
  {
   "cell_type": "code",
   "execution_count": 11,
   "metadata": {},
   "outputs": [],
   "source": [
    "def labellingD1(d10) -> str:\n",
    "    '''\n",
    "    D1 5가지 x D0 25가지\n",
    "    '''\n",
    "    temp = d10.iloc[0]\n",
    "    openP = temp['open']\n",
    "    highP = temp['high']\n",
    "    lowP = temp['low']\n",
    "    closeP = temp['close']\n",
    "    \n",
    "    # 장대 양봉\n",
    "    if closeP >= 1.1*openP:\n",
    "        res = \"P10\"\n",
    "\n",
    "    # 짧은 양봉\n",
    "    elif closeP >= 1.005*openP:\n",
    "        res = \"P00\"\n",
    "\n",
    "    # 보합\n",
    "    elif closeP >= openP:\n",
    "        res = \"K00\"\n",
    "\n",
    "    # 짧은 음봉\n",
    "    elif closeP >= 0.9*openP:\n",
    "        res = \"M00\"\n",
    "\n",
    "    # 장대 음봉\n",
    "    else:\n",
    "        res = \"M10\"\n",
    "\n",
    "    return res + labellingD0(d10.iloc[1])"
   ]
  },
  {
   "cell_type": "code",
   "execution_count": 12,
   "metadata": {},
   "outputs": [
    {
     "data": {
      "text/plain": [
       "'M00M05'"
      ]
     },
     "execution_count": 12,
     "metadata": {},
     "output_type": "execute_result"
    }
   ],
   "source": [
    "labellingD1(test2)"
   ]
  },
  {
   "cell_type": "code",
   "execution_count": 13,
   "metadata": {},
   "outputs": [
    {
     "data": {
      "text/plain": [
       "삼성전자\n",
       "open       21120\n",
       "high       21319\n",
       "low        20600\n",
       "close      20800\n",
       "volume    376753\n",
       "Name: 2012-01-06 00:00:00, dtype: int32"
      ]
     },
     "execution_count": 13,
     "metadata": {},
     "output_type": "execute_result"
    }
   ],
   "source": [
    "test21 = test2.iloc[1]\n",
    "test21"
   ]
  },
  {
   "cell_type": "code",
   "execution_count": 75,
   "metadata": {},
   "outputs": [
    {
     "data": {
      "text/plain": [
       "'M05'"
      ]
     },
     "execution_count": 75,
     "metadata": {},
     "output_type": "execute_result"
    }
   ],
   "source": [
    "labellingD0(test21)"
   ]
  },
  {
   "cell_type": "code",
   "execution_count": 94,
   "metadata": {},
   "outputs": [],
   "source": [
    "def labellingD2(d210):\n",
    "    d2_openP = d210.iloc[0]['open']\n",
    "    d2_closeP = d210.iloc[0]['close']\n",
    "    d1_openP = d210.iloc[1]['open']\n",
    "    d1_closeP = d210.iloc[1]['close']\n",
    "    \n",
    "    d21_max = max(d2_openP, d2_closeP, d1_openP, d1_closeP)\n",
    "    d21_avg = (d21_max + min(d2_openP, d2_closeP, d1_openP, d1_closeP))/2\n",
    "    if d21_max/d21_avg <= 1.005:\n",
    "        res = \"S04\"\n",
    "    elif d2_openP <= d2_closeP: # D2 양봉\n",
    "        if d1_openP <= d1_closeP:\n",
    "            res = \"P10\"\n",
    "        elif d2_openP >= d1_closeP:\n",
    "            res = \"S07\"\n",
    "        elif d2_closeP > d1_openP:\n",
    "            res = \"S06\"\n",
    "        elif d2_closeP >= d1_closeP:\n",
    "            res = \"S03\"\n",
    "        else:\n",
    "            res = \"S05\"\n",
    "    elif d2_openP >= d2_closeP: # D2 음봉\n",
    "        if d1_openP >= d1_closeP:\n",
    "            res = \"M10\"\n",
    "        elif d2_closeP < d1_openP:\n",
    "            res = \"S01\"\n",
    "        elif d2_openP <= d1_closeP:\n",
    "            res = \"S02\"\n",
    "        elif d2_closeP >= d1_closeP:\n",
    "            res = \"S08\"\n",
    "        else:\n",
    "            res = \"S00\" \n",
    "    else:\n",
    "        res = \"S09\"\n",
    "        \n",
    "    return res + labellingD0(d210.iloc[2])"
   ]
  },
  {
   "cell_type": "code",
   "execution_count": null,
   "metadata": {},
   "outputs": [],
   "source": []
  },
  {
   "cell_type": "code",
   "execution_count": null,
   "metadata": {},
   "outputs": [],
   "source": []
  },
  {
   "cell_type": "markdown",
   "metadata": {},
   "source": [
    "## DataFrame에 삽입"
   ]
  },
  {
   "cell_type": "code",
   "execution_count": 91,
   "metadata": {},
   "outputs": [],
   "source": [
    "df['pattern1'] = None\n",
    "for i in range(len(df)):\n",
    "    df['pattern1'].values[i]  = labellingD0(df.iloc[i])"
   ]
  },
  {
   "cell_type": "code",
   "execution_count": 92,
   "metadata": {},
   "outputs": [],
   "source": [
    "df['pattern2'] = None\n",
    "for i in range(1,len(df)):\n",
    "    df['pattern2'].values[i] = labellingD1(df.iloc[i-1:i+1])"
   ]
  },
  {
   "cell_type": "code",
   "execution_count": 95,
   "metadata": {},
   "outputs": [],
   "source": [
    "df['pattern3'] = None\n",
    "for i in range(2,len(df)):\n",
    "    df['pattern3'].values[i] = labellingD2(df.iloc[i-2:i+1])"
   ]
  },
  {
   "cell_type": "code",
   "execution_count": 96,
   "metadata": {},
   "outputs": [],
   "source": [
    "df.to_csv(\"samsung.csv\")"
   ]
  },
  {
   "cell_type": "code",
   "execution_count": 83,
   "metadata": {},
   "outputs": [],
   "source": []
  },
  {
   "cell_type": "code",
   "execution_count": 79,
   "metadata": {},
   "outputs": [
    {
     "data": {
      "text/plain": [
       "Int64Index([  47,   55,  213,  255,  286,  334,  407,  453,  516,  541,  633,\n",
       "             664,  683,  712,  734,  804,  856,  902,  924,  941,  989, 1016,\n",
       "            1017, 1395, 1513, 1523, 1564, 1673, 1725, 1739, 1764, 1821, 1843,\n",
       "            1851, 1917, 1936, 1986, 2013, 2085, 2124, 2131],\n",
       "           dtype='int64')"
      ]
     },
     "execution_count": 79,
     "metadata": {},
     "output_type": "execute_result"
    }
   ],
   "source": []
  },
  {
   "cell_type": "code",
   "execution_count": 85,
   "metadata": {},
   "outputs": [
    {
     "data": {
      "text/html": [
       "<div>\n",
       "<style scoped>\n",
       "    .dataframe tbody tr th:only-of-type {\n",
       "        vertical-align: middle;\n",
       "    }\n",
       "\n",
       "    .dataframe tbody tr th {\n",
       "        vertical-align: top;\n",
       "    }\n",
       "\n",
       "    .dataframe thead th {\n",
       "        text-align: right;\n",
       "    }\n",
       "</style>\n",
       "<table border=\"1\" class=\"dataframe\">\n",
       "  <thead>\n",
       "    <tr style=\"text-align: right;\">\n",
       "      <th>삼성전자</th>\n",
       "      <th>날짜</th>\n",
       "      <th>open</th>\n",
       "      <th>high</th>\n",
       "      <th>low</th>\n",
       "      <th>close</th>\n",
       "      <th>volume</th>\n",
       "      <th>pattern1</th>\n",
       "      <th>pattern2</th>\n",
       "      <th>pattern3</th>\n",
       "    </tr>\n",
       "  </thead>\n",
       "  <tbody>\n",
       "  </tbody>\n",
       "</table>\n",
       "</div>"
      ],
      "text/plain": [
       "Empty DataFrame\n",
       "Columns: [날짜, open, high, low, close, volume, pattern1, pattern2, pattern3]\n",
       "Index: []"
      ]
     },
     "execution_count": 85,
     "metadata": {},
     "output_type": "execute_result"
    }
   ],
   "source": []
  },
  {
   "cell_type": "code",
   "execution_count": 90,
   "metadata": {},
   "outputs": [
    {
     "data": {
      "text/plain": [
       "array([False])"
      ]
     },
     "execution_count": 90,
     "metadata": {},
     "output_type": "execute_result"
    }
   ],
   "source": []
  },
  {
   "cell_type": "code",
   "execution_count": null,
   "metadata": {},
   "outputs": [],
   "source": []
  }
 ],
 "metadata": {
  "kernelspec": {
   "display_name": "Python 3",
   "language": "python",
   "name": "python3"
  },
  "language_info": {
   "codemirror_mode": {
    "name": "ipython",
    "version": 3
   },
   "file_extension": ".py",
   "mimetype": "text/x-python",
   "name": "python",
   "nbconvert_exporter": "python",
   "pygments_lexer": "ipython3",
   "version": "3.7.4"
  }
 },
 "nbformat": 4,
 "nbformat_minor": 4
}
