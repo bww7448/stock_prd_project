{
 "cells": [
  {
   "cell_type": "code",
   "execution_count": null,
   "metadata": {},
   "outputs": [],
   "source": [
    "import pandas as pd\n",
    "import FinanceDataReader as fdr\n",
    "\n",
    "today = pd.Timestamp.now()\n",
    "today = str(today.year)+\"-\"+str(today.month)+\"-\"+str(today.day)\n",
    "nq = fdr.DataReader('IXIC', '2012-01-01', today)\n",
    "nq = nq.reset_index()\n",
    "nq.columns = pd.Index([\"date\", \"close\", \"open\",\"high\",\"low\",\"volume\",\"change\"],name=nq.columns.name)\n",
    "\n",
    "# date 쪼개기\n",
    "nq_date = pd.DataFrame(nq['date'])\n",
    "\n",
    "# 아래에 빈 행 추가\n",
    "nq_date.loc['today'] = today\n",
    "nq_date.reset_index(inplace=True)\n",
    "\n",
    "del nq_date['index']\n",
    "\n",
    "# 나머지 컬럼들\n",
    "nq_remain = pd.DataFrame(nq[['close', 'open','change']])\n",
    "\n",
    "# 윗 행 생성\n",
    "first_row= {'close':[0],'open':[0],'change':[0]}\n",
    "first_row= pd.DataFrame(first_row)\n",
    "\n",
    "# 윗 행 합치기\n",
    "plus_data = pd.concat([first_row, nq_remain])\n",
    "\n",
    "#reset_index\n",
    "plus_data.reset_index(inplace=True)\n",
    "\n",
    "#del index\n",
    "del plus_data['index']\n",
    "\n",
    "# date + plus_data\n",
    "nsq_data = pd.concat([nq_date, plus_data], axis=1)\n",
    "nsq_data.to_csv(\"resources/nasdaq.csv\")"
   ]
  }
 ],
 "metadata": {
  "kernelspec": {
   "display_name": "Python 3",
   "language": "python",
   "name": "python3"
  },
  "language_info": {
   "codemirror_mode": {
    "name": "ipython",
    "version": 3
   },
   "file_extension": ".py",
   "mimetype": "text/x-python",
   "name": "python",
   "nbconvert_exporter": "python",
   "pygments_lexer": "ipython3",
   "version": "3.7.4"
  }
 },
 "nbformat": 4,
 "nbformat_minor": 4
}
