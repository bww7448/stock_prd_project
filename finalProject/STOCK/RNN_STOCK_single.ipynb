{
 "cells": [
  {
   "cell_type": "code",
   "execution_count": 1,
   "metadata": {},
   "outputs": [
    {
     "ename": "AttributeError",
     "evalue": "module 'tensorflow' has no attribute 'set_random_seed'",
     "output_type": "error",
     "traceback": [
      "\u001b[0;31m---------------------------------------------------------------------------\u001b[0m",
      "\u001b[0;31mAttributeError\u001b[0m                            Traceback (most recent call last)",
      "\u001b[0;32m<ipython-input-1-748df3286547>\u001b[0m in \u001b[0;36m<module>\u001b[0;34m\u001b[0m\n\u001b[1;32m      3\u001b[0m \u001b[0;32mimport\u001b[0m \u001b[0mmatplotlib\u001b[0m\u001b[0;34m.\u001b[0m\u001b[0mpyplot\u001b[0m \u001b[0;32mas\u001b[0m \u001b[0mplt\u001b[0m\u001b[0;34m\u001b[0m\u001b[0;34m\u001b[0m\u001b[0m\n\u001b[1;32m      4\u001b[0m \u001b[0;34m\u001b[0m\u001b[0m\n\u001b[0;32m----> 5\u001b[0;31m \u001b[0mtf\u001b[0m\u001b[0;34m.\u001b[0m\u001b[0mset_random_seed\u001b[0m\u001b[0;34m(\u001b[0m\u001b[0;36m777\u001b[0m\u001b[0;34m)\u001b[0m  \u001b[0;31m# reproducibility\u001b[0m\u001b[0;34m\u001b[0m\u001b[0;34m\u001b[0m\u001b[0m\n\u001b[0m\u001b[1;32m      6\u001b[0m \u001b[0;34m\u001b[0m\u001b[0m\n\u001b[1;32m      7\u001b[0m \u001b[0;34m\u001b[0m\u001b[0m\n",
      "\u001b[0;31mAttributeError\u001b[0m: module 'tensorflow' has no attribute 'set_random_seed'"
     ]
    }
   ],
   "source": [
    "import tensorflow as tf\n",
    "import numpy as np\n",
    "import matplotlib.pyplot as plt\n",
    "\n",
    "tf.set_random_seed(777)  # reproducibility\n",
    "\n",
    "\n",
    "def MinMaxScaler(data):\n",
    "    numerator = data - np.min(data, 0)\n",
    "    denominator = np.max(data, 0) - np.min(data, 0)\n",
    "    # noise term prevents the zero division\n",
    "    return numerator / (denominator + 1e-7)\n",
    "\n",
    "\n",
    "\n",
    "# train Parameters\n",
    "seq_length = 7\n",
    "data_dim = 5\n",
    "hidden_dim = 10\n",
    "output_dim = 1\n",
    "learing_rate = 0.01\n",
    "iterations = 500\n",
    "LSTM_stack = 1\n",
    "\n",
    "\n",
    "# Choose stock\n",
    "stock = \"KRX:005380\"\n",
    "pred_label = 3 # 0 : Open, 1: High 2: Low, 3:Close 4:Volumne\n",
    "\n",
    "# data scrolling parts\n",
    "from pandas_datareader import data, wb\n",
    "from datetime import datetime\n",
    "\n",
    "# 날짜 지정\n",
    "now=datetime.now()\n",
    "year = now.year\n",
    "month = now.month\n",
    "day = now.day\n",
    "\n",
    "start = datetime(2010, 1, 2)\n",
    "end = datetime(year, month, day)\n",
    "df = data.DataReader(\n",
    "    stock,  # name\n",
    "    \"google\",  # data source\n",
    "    start,  # start\n",
    "    end  # end\n",
    ")\n",
    "\n"
   ]
  },
  {
   "cell_type": "code",
   "execution_count": null,
   "metadata": {},
   "outputs": [],
   "source": [
    "# Convert pandas dataframe to numpy array\n",
    "dataset_temp = df.as_matrix()\n",
    "#dataset_temp = dataset_temp[:-1,:]\n",
    "\n"
   ]
  },
  {
   "cell_type": "code",
   "execution_count": null,
   "metadata": {},
   "outputs": [],
   "source": [
    "# Open, High, Low, Volume, Close\n",
    "test_min = np.min(dataset_temp, 0)\n",
    "test_max = np.max(dataset_temp, 0)\n",
    "test_denom = test_max - test_min\n",
    "\n",
    "dataset = MinMaxScaler(dataset_temp)\n"
   ]
  },
  {
   "cell_type": "code",
   "execution_count": null,
   "metadata": {},
   "outputs": [],
   "source": [
    "\n",
    "dataset_temp = df.as_matrix()\n",
    "test_last_X = (dataset_temp[-seq_length:,:]-test_min)/(test_denom+1e-7);\n",
    "\n",
    "#test_last_min = np.min(test_last_X, 0)\n",
    "#test_last_max = np.max(test_last_X, 0)\n",
    "#test_last_denom = test_last_max - test_last_min\n",
    "\n",
    "\n"
   ]
  },
  {
   "cell_type": "code",
   "execution_count": null,
   "metadata": {},
   "outputs": [],
   "source": [
    "# build a dataset\n",
    "dataX = []\n",
    "dataY = []\n",
    "dataY_temp = []\n",
    "for i in range(0, len(dataset) - seq_length):\n",
    "    _x = dataset[i:i + seq_length]\n",
    "    #_y = dataset_label[i + seq_length]  # Next close price\n",
    "    _y = dataset[i + seq_length]\n",
    "    dataX.append(_x)\n",
    "    dataY.append(_y)\n",
    "    \n",
    "\n",
    "# train/test split 70 / 30\n",
    "train_size = int(len(dataY) * 0.7)\n",
    "test_size = len(dataY) - train_size\n",
    "trainX, testX = np.array(dataX[0:train_size]), np.array(\n",
    "    dataX[train_size:len(dataX)])\n",
    "trainY, testY = np.array(dataY[0:train_size]), np.array(\n",
    "    dataY[train_size:len(dataY)])\n"
   ]
  },
  {
   "cell_type": "code",
   "execution_count": null,
   "metadata": {},
   "outputs": [],
   "source": [
    "# input place holders\n",
    "X = tf.placeholder(tf.float32, [None, seq_length, data_dim], name='input_X')\n",
    "Y = tf.placeholder(tf.float32, [None, 1], name='intput_Y')\n",
    "\n",
    "# build a LSTM network\n",
    "def lstm_cell():\n",
    "    cell_temp = tf.contrib.rnn.BasicLSTMCell(num_units=hidden_dim, state_is_tuple=True, activation=tf.tanh)\n",
    "    return cell_temp\n",
    "\n",
    "cell = tf.contrib.rnn.MultiRNNCell([lstm_cell() for _ in range(LSTM_stack)], state_is_tuple=True)\n",
    "\n",
    "\n",
    "outputs, _states = tf.nn.dynamic_rnn(cell, X, dtype=tf.float32)\n",
    "\n",
    "Y_pred = tf.contrib.layers.fully_connected(\n",
    "    outputs[:, -1], output_dim, activation_fn=None)  # We use the last cell's output\n",
    "\n",
    "# cost/loss\n",
    "loss = tf.reduce_sum(tf.square(Y_pred - Y), name='losses_sum')  # sum of the squares\n",
    "\n",
    "# optimizer\n",
    "optimizer = tf.train.AdamOptimizer(learing_rate)\n",
    "train = optimizer.minimize(loss, name='train')\n",
    "\n",
    "# RMSE\n",
    "targets = tf.placeholder(tf.float32, [None, 1], name='targets')\n",
    "predictions = tf.placeholder(tf.float32, [None, 1], name='predictions')\n",
    "rmse = tf.sqrt(tf.reduce_mean(tf.square(targets - predictions)), name='rmse')"
   ]
  },
  {
   "cell_type": "code",
   "execution_count": null,
   "metadata": {},
   "outputs": [],
   "source": [
    "outputs.shape"
   ]
  },
  {
   "cell_type": "code",
   "execution_count": null,
   "metadata": {},
   "outputs": [],
   "source": [
    "Y_pred.shape"
   ]
  },
  {
   "cell_type": "code",
   "execution_count": null,
   "metadata": {},
   "outputs": [],
   "source": [
    " outputs[:, -1]"
   ]
  },
  {
   "cell_type": "code",
   "execution_count": null,
   "metadata": {},
   "outputs": [],
   "source": [
    "with tf.Session() as sess:\n",
    "    init = tf.global_variables_initializer()\n",
    "    sess.run(init)\n",
    "\n",
    "    # Tensorboard\n",
    "    merged = tf.summary.merge_all()\n",
    "    writer = tf.summary.FileWriter(\"./tensorflowlog\", sess.graph)\n",
    "\n",
    "    losslist = [];\n",
    "    # Training step\n",
    "    for i in range(iterations):\n",
    "        _, step_loss = sess.run([train, loss], feed_dict={X: trainX, Y: trainY[:, [pred_label]]})\n",
    "        losslist = np.append(losslist, step_loss)\n",
    "\n",
    "    # Test step\n",
    "    test_predict = sess.run(Y_pred, feed_dict={X: testX})\n",
    "    rmse = sess.run(rmse, feed_dict={\n",
    "        targets: testY[:, [pred_label]], predictions: test_predict})\n",
    "    print(\"RMSE: {}\".format(rmse))\n",
    "\n",
    "    # Predictions test\n",
    "    prediction_test = sess.run(Y_pred, feed_dict={X: test_last_X.reshape(1, 7, 5)})\n",
    "   "
   ]
  },
  {
   "cell_type": "code",
   "execution_count": null,
   "metadata": {},
   "outputs": [],
   "source": [
    "print(\"predictions \", end='')\n",
    "print(prediction_test *test_denom[pred_label]+test_min[pred_label])"
   ]
  },
  {
   "cell_type": "code",
   "execution_count": null,
   "metadata": {},
   "outputs": [],
   "source": [
    "# Plot losss\n",
    "plt.figure(1)\n",
    "plt.plot(losslist, color=\"green\", label=\"Error\");\n",
    "plt.xlabel(\"Iteration Number\")\n",
    "plt.ylabel(\"Sum of the Squarred Error\")\n",
    "plt.legend(loc='upper right', frameon=False)\n",
    "\n"
   ]
  },
  {
   "cell_type": "code",
   "execution_count": null,
   "metadata": {},
   "outputs": [],
   "source": [
    "# Plot predictions\n",
    "plt.figure(2)\n",
    "testY_plt=testY[:, [pred_label]]*test_denom[pred_label]+test_min[pred_label]\n",
    "test_predict_plt=test_predict*test_denom[pred_label]+test_min[pred_label]\n",
    "plt.plot(testY_plt, color=\"red\", label=\"Real\")\n",
    "plt.plot(test_predict_plt, color=\"blue\", label=\"Prediction\")\n",
    "plt.xlabel(\"Time Period\")\n",
    "plt.ylabel(\"Stock Price\")\n",
    "plt.legend(loc='upper left', frameon=False)\n",
    "plt.xticks([])\n",
    "plt.yticks([])\n",
    "\n",
    "plt.show()"
   ]
  },
  {
   "cell_type": "code",
   "execution_count": null,
   "metadata": {},
   "outputs": [],
   "source": [
    "(testY_plt-test_predict_plt).max()\n",
    "\n"
   ]
  },
  {
   "cell_type": "code",
   "execution_count": null,
   "metadata": {},
   "outputs": [],
   "source": [
    "Total_size=df.as_matrix().shape[0]\n",
    "Total_size"
   ]
  },
  {
   "cell_type": "code",
   "execution_count": null,
   "metadata": {},
   "outputs": [],
   "source": [
    "Predict_size=test_predict_plt.shape[0]\n",
    "Predict_size"
   ]
  },
  {
   "cell_type": "code",
   "execution_count": null,
   "metadata": {},
   "outputs": [],
   "source": [
    "Predict_close_concat=np.concatenate((np.zeros((Total_size-Predict_size,1)) ,test_predict_plt), axis=0)\n",
    "df[\"Predict Close\"]=Predict_close_concat.round()\n",
    "df"
   ]
  },
  {
   "cell_type": "code",
   "execution_count": null,
   "metadata": {},
   "outputs": [],
   "source": [
    "Total_size"
   ]
  },
  {
   "cell_type": "code",
   "execution_count": null,
   "metadata": {},
   "outputs": [],
   "source": []
  },
  {
   "cell_type": "code",
   "execution_count": null,
   "metadata": {},
   "outputs": [],
   "source": []
  }
 ],
 "metadata": {
  "kernelspec": {
   "display_name": "Python 3",
   "language": "python",
   "name": "python3"
  },
  "language_info": {
   "codemirror_mode": {
    "name": "ipython",
    "version": 3
   },
   "file_extension": ".py",
   "mimetype": "text/x-python",
   "name": "python",
   "nbconvert_exporter": "python",
   "pygments_lexer": "ipython3",
   "version": "3.7.6"
  }
 },
 "nbformat": 4,
 "nbformat_minor": 2
}
