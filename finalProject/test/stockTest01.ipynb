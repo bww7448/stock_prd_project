{
 "cells": [
  {
   "cell_type": "code",
   "execution_count": 1,
   "metadata": {},
   "outputs": [
    {
     "name": "stdout",
     "output_type": "stream",
     "text": [
      "Requirement already up-to-date: pykrx in /Users/lionking/opt/anaconda3/lib/python3.7/site-packages (0.1.41)\n",
      "Requirement already satisfied, skipping upgrade: datetime in /Users/lionking/opt/anaconda3/lib/python3.7/site-packages (from pykrx) (4.3)\n",
      "Requirement already satisfied, skipping upgrade: pandas in /Users/lionking/opt/anaconda3/lib/python3.7/site-packages (from pykrx) (1.0.1)\n",
      "Requirement already satisfied, skipping upgrade: requests in /Users/lionking/opt/anaconda3/lib/python3.7/site-packages (from pykrx) (2.22.0)\n",
      "Requirement already satisfied, skipping upgrade: xlrd in /Users/lionking/opt/anaconda3/lib/python3.7/site-packages (from pykrx) (1.2.0)\n",
      "Requirement already satisfied, skipping upgrade: numpy in /Users/lionking/opt/anaconda3/lib/python3.7/site-packages (from pykrx) (1.18.1)\n",
      "Requirement already satisfied, skipping upgrade: zope.interface in /Users/lionking/opt/anaconda3/lib/python3.7/site-packages (from datetime->pykrx) (5.1.2)\n",
      "Requirement already satisfied, skipping upgrade: pytz in /Users/lionking/opt/anaconda3/lib/python3.7/site-packages (from datetime->pykrx) (2019.3)\n",
      "Requirement already satisfied, skipping upgrade: python-dateutil>=2.6.1 in /Users/lionking/opt/anaconda3/lib/python3.7/site-packages (from pandas->pykrx) (2.8.1)\n",
      "Requirement already satisfied, skipping upgrade: certifi>=2017.4.17 in /Users/lionking/opt/anaconda3/lib/python3.7/site-packages (from requests->pykrx) (2019.11.28)\n",
      "Requirement already satisfied, skipping upgrade: idna<2.9,>=2.5 in /Users/lionking/opt/anaconda3/lib/python3.7/site-packages (from requests->pykrx) (2.8)\n",
      "Requirement already satisfied, skipping upgrade: chardet<3.1.0,>=3.0.2 in /Users/lionking/opt/anaconda3/lib/python3.7/site-packages (from requests->pykrx) (3.0.4)\n",
      "Requirement already satisfied, skipping upgrade: urllib3!=1.25.0,!=1.25.1,<1.26,>=1.21.1 in /Users/lionking/opt/anaconda3/lib/python3.7/site-packages (from requests->pykrx) (1.25.8)\n",
      "Requirement already satisfied, skipping upgrade: setuptools in /Users/lionking/opt/anaconda3/lib/python3.7/site-packages (from zope.interface->datetime->pykrx) (46.0.0.post20200309)\n",
      "Requirement already satisfied, skipping upgrade: six>=1.5 in /Users/lionking/opt/anaconda3/lib/python3.7/site-packages (from python-dateutil>=2.6.1->pandas->pykrx) (1.14.0)\n",
      "Note: you may need to restart the kernel to use updated packages.\n"
     ]
    }
   ],
   "source": [
    "# pip install -U pykrx"
   ]
  },
  {
   "cell_type": "code",
   "execution_count": 2,
   "metadata": {},
   "outputs": [],
   "source": [
    "from pykrx import stock"
   ]
  },
  {
   "cell_type": "code",
   "execution_count": 3,
   "metadata": {},
   "outputs": [],
   "source": [
    "df = stock.get_market_ohlcv_by_date(\"19000101\", \"20201012\", \"005930\")"
   ]
  },
  {
   "cell_type": "code",
   "execution_count": 4,
   "metadata": {},
   "outputs": [
    {
     "data": {
      "text/html": [
       "<div>\n",
       "<style scoped>\n",
       "    .dataframe tbody tr th:only-of-type {\n",
       "        vertical-align: middle;\n",
       "    }\n",
       "\n",
       "    .dataframe tbody tr th {\n",
       "        vertical-align: top;\n",
       "    }\n",
       "\n",
       "    .dataframe thead th {\n",
       "        text-align: right;\n",
       "    }\n",
       "</style>\n",
       "<table border=\"1\" class=\"dataframe\">\n",
       "  <thead>\n",
       "    <tr style=\"text-align: right;\">\n",
       "      <th>삼성전자</th>\n",
       "      <th>시가</th>\n",
       "      <th>고가</th>\n",
       "      <th>저가</th>\n",
       "      <th>종가</th>\n",
       "      <th>거래량</th>\n",
       "    </tr>\n",
       "    <tr>\n",
       "      <th>날짜</th>\n",
       "      <th></th>\n",
       "      <th></th>\n",
       "      <th></th>\n",
       "      <th></th>\n",
       "      <th></th>\n",
       "    </tr>\n",
       "  </thead>\n",
       "  <tbody>\n",
       "    <tr>\n",
       "      <th>1990-01-03</th>\n",
       "      <td>44000</td>\n",
       "      <td>45000</td>\n",
       "      <td>43200</td>\n",
       "      <td>44800</td>\n",
       "      <td>26240</td>\n",
       "    </tr>\n",
       "    <tr>\n",
       "      <th>1990-01-04</th>\n",
       "      <td>45000</td>\n",
       "      <td>45800</td>\n",
       "      <td>44800</td>\n",
       "      <td>45300</td>\n",
       "      <td>41900</td>\n",
       "    </tr>\n",
       "    <tr>\n",
       "      <th>1990-01-05</th>\n",
       "      <td>45000</td>\n",
       "      <td>45300</td>\n",
       "      <td>44300</td>\n",
       "      <td>44300</td>\n",
       "      <td>27400</td>\n",
       "    </tr>\n",
       "    <tr>\n",
       "      <th>1990-01-06</th>\n",
       "      <td>44800</td>\n",
       "      <td>45000</td>\n",
       "      <td>44500</td>\n",
       "      <td>44500</td>\n",
       "      <td>26380</td>\n",
       "    </tr>\n",
       "    <tr>\n",
       "      <th>1990-01-08</th>\n",
       "      <td>44500</td>\n",
       "      <td>44900</td>\n",
       "      <td>44000</td>\n",
       "      <td>44000</td>\n",
       "      <td>14790</td>\n",
       "    </tr>\n",
       "    <tr>\n",
       "      <th>...</th>\n",
       "      <td>...</td>\n",
       "      <td>...</td>\n",
       "      <td>...</td>\n",
       "      <td>...</td>\n",
       "      <td>...</td>\n",
       "    </tr>\n",
       "    <tr>\n",
       "      <th>2020-10-05</th>\n",
       "      <td>57500</td>\n",
       "      <td>59200</td>\n",
       "      <td>57500</td>\n",
       "      <td>58700</td>\n",
       "      <td>20228289</td>\n",
       "    </tr>\n",
       "    <tr>\n",
       "      <th>2020-10-06</th>\n",
       "      <td>59400</td>\n",
       "      <td>59900</td>\n",
       "      <td>58700</td>\n",
       "      <td>59000</td>\n",
       "      <td>14463826</td>\n",
       "    </tr>\n",
       "    <tr>\n",
       "      <th>2020-10-07</th>\n",
       "      <td>58700</td>\n",
       "      <td>59900</td>\n",
       "      <td>58500</td>\n",
       "      <td>59900</td>\n",
       "      <td>14861838</td>\n",
       "    </tr>\n",
       "    <tr>\n",
       "      <th>2020-10-08</th>\n",
       "      <td>60500</td>\n",
       "      <td>60700</td>\n",
       "      <td>59500</td>\n",
       "      <td>59700</td>\n",
       "      <td>24589924</td>\n",
       "    </tr>\n",
       "    <tr>\n",
       "      <th>2020-10-12</th>\n",
       "      <td>60000</td>\n",
       "      <td>60400</td>\n",
       "      <td>59900</td>\n",
       "      <td>60400</td>\n",
       "      <td>16145837</td>\n",
       "    </tr>\n",
       "  </tbody>\n",
       "</table>\n",
       "<p>8016 rows × 5 columns</p>\n",
       "</div>"
      ],
      "text/plain": [
       "삼성전자           시가     고가     저가     종가       거래량\n",
       "날짜                                              \n",
       "1990-01-03  44000  45000  43200  44800     26240\n",
       "1990-01-04  45000  45800  44800  45300     41900\n",
       "1990-01-05  45000  45300  44300  44300     27400\n",
       "1990-01-06  44800  45000  44500  44500     26380\n",
       "1990-01-08  44500  44900  44000  44000     14790\n",
       "...           ...    ...    ...    ...       ...\n",
       "2020-10-05  57500  59200  57500  58700  20228289\n",
       "2020-10-06  59400  59900  58700  59000  14463826\n",
       "2020-10-07  58700  59900  58500  59900  14861838\n",
       "2020-10-08  60500  60700  59500  59700  24589924\n",
       "2020-10-12  60000  60400  59900  60400  16145837\n",
       "\n",
       "[8016 rows x 5 columns]"
      ]
     },
     "execution_count": 4,
     "metadata": {},
     "output_type": "execute_result"
    }
   ],
   "source": [
    "df"
   ]
  },
  {
   "cell_type": "code",
   "execution_count": 5,
   "metadata": {},
   "outputs": [
    {
     "name": "stdout",
     "output_type": "stream",
     "text": [
      "Requirement already satisfied: PyMySQL in /Users/lionking/opt/anaconda3/lib/python3.7/site-packages (0.10.1)\n",
      "Note: you may need to restart the kernel to use updated packages.\n"
     ]
    }
   ],
   "source": [
    "# pip install PyMySQL"
   ]
  },
  {
   "cell_type": "code",
   "execution_count": 6,
   "metadata": {},
   "outputs": [],
   "source": [
    "import pymysql\n",
    "from openpyxl import Workbook\n",
    "from openpyxl import load_workbook"
   ]
  },
  {
   "cell_type": "code",
   "execution_count": 10,
   "metadata": {},
   "outputs": [],
   "source": [
    "juso_db = pymysql.connect(\n",
    "    user='root', \n",
    "    passwd='minihs1207', \n",
    "    host='lionking.local',\n",
    "    port=3306, \n",
    "    db='tese01', \n",
    "    charset='utf8mb4'\n",
    ")"
   ]
  },
  {
   "cell_type": "code",
   "execution_count": 11,
   "metadata": {},
   "outputs": [],
   "source": [
    "curs = juso_db.cursor()"
   ]
  },
  {
   "cell_type": "code",
   "execution_count": 13,
   "metadata": {
    "collapsed": true
   },
   "outputs": [
    {
     "ename": "ModuleNotFoundError",
     "evalue": "No module named 'mysql'",
     "output_type": "error",
     "traceback": [
      "\u001b[0;31m---------------------------------------------------------------------------\u001b[0m",
      "\u001b[0;31mModuleNotFoundError\u001b[0m                       Traceback (most recent call last)",
      "\u001b[0;32m<ipython-input-13-51cf7172722e>\u001b[0m in \u001b[0;36m<module>\u001b[0;34m\u001b[0m\n\u001b[0;32m----> 1\u001b[0;31m \u001b[0;32mimport\u001b[0m \u001b[0mmysql\u001b[0m\u001b[0;34m.\u001b[0m\u001b[0mconnector\u001b[0m\u001b[0;34m\u001b[0m\u001b[0;34m\u001b[0m\u001b[0m\n\u001b[0m\u001b[1;32m      2\u001b[0m \u001b[0;34m\u001b[0m\u001b[0m\n\u001b[1;32m      3\u001b[0m \u001b[0;31m#------------------------------------------------------#\u001b[0m\u001b[0;34m\u001b[0m\u001b[0;34m\u001b[0m\u001b[0;34m\u001b[0m\u001b[0m\n\u001b[1;32m      4\u001b[0m \u001b[0;34m\u001b[0m\u001b[0m\n\u001b[1;32m      5\u001b[0m \u001b[0mmysql_con\u001b[0m \u001b[0;34m=\u001b[0m \u001b[0;32mNone\u001b[0m\u001b[0;34m\u001b[0m\u001b[0;34m\u001b[0m\u001b[0m\n",
      "\u001b[0;31mModuleNotFoundError\u001b[0m: No module named 'mysql'"
     ]
    }
   ],
   "source": [
    "import mysql.connector\n",
    "\n",
    "#------------------------------------------------------#\n",
    "\n",
    "mysql_con = None\n",
    "\n",
    "\n",
    "if __name__ == \"__main__\":\n",
    "\n",
    "\n",
    "    try:\n",
    "\n",
    "        mysql_con = mysql.connector.connect(host='localhost', port='3306', database='weather', user='root', password='root')\n",
    "                                            \n",
    "        mysql_cursor = mysql_con.cursor(dictionary=True)\n",
    "\n",
    "        mysql_cursor.close()\n",
    "\n",
    "\n",
    "    finally:\n",
    "        if mysql_con is not None:\n",
    "            mysql_con.close()"
   ]
  },
  {
   "cell_type": "code",
   "execution_count": 1,
   "metadata": {},
   "outputs": [],
   "source": [
    "import matplotlib\n",
    "import matplotlib.pyplot as plt\n",
    "import matplotlib.ticker as mticker\n",
    "import matplotlib.dates as mdates\n",
    "import numpy as np\n",
    "from numpy import loadtxt\n",
    "import time"
   ]
  },
  {
   "cell_type": "code",
   "execution_count": null,
   "metadata": {},
   "outputs": [],
   "source": []
  }
 ],
 "metadata": {
  "kernelspec": {
   "display_name": "Python 3",
   "language": "python",
   "name": "python3"
  },
  "language_info": {
   "codemirror_mode": {
    "name": "ipython",
    "version": 3
   },
   "file_extension": ".py",
   "mimetype": "text/x-python",
   "name": "python",
   "nbconvert_exporter": "python",
   "pygments_lexer": "ipython3",
   "version": "3.7.6"
  }
 },
 "nbformat": 4,
 "nbformat_minor": 4
}
